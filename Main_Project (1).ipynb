{
  "cells": [
    {
      "cell_type": "code",
      "execution_count": 3,
      "id": "d3d7c37f",
      "metadata": {
        "colab": {
          "base_uri": "https://localhost:8080/"
        },
        "id": "d3d7c37f",
        "outputId": "95e8f0d4-54dc-4284-adf9-ef50403b2c52"
      },
      "outputs": [
        {
          "output_type": "stream",
          "name": "stderr",
          "text": [
            "[nltk_data] Downloading package punkt to /root/nltk_data...\n",
            "[nltk_data]   Unzipping tokenizers/punkt.zip.\n",
            "[nltk_data] Downloading package averaged_perceptron_tagger to\n",
            "[nltk_data]     /root/nltk_data...\n",
            "[nltk_data]   Unzipping taggers/averaged_perceptron_tagger.zip.\n",
            "[nltk_data] Downloading package wordnet to /root/nltk_data...\n",
            "[nltk_data] Downloading package stopwords to /root/nltk_data...\n",
            "[nltk_data]   Unzipping corpora/stopwords.zip.\n"
          ]
        },
        {
          "output_type": "stream",
          "name": "stdout",
          "text": [
            "Looking in indexes: https://pypi.org/simple, https://us-python.pkg.dev/colab-wheels/public/simple/\n",
            "Collecting num2words\n",
            "  Downloading num2words-0.5.12-py3-none-any.whl (125 kB)\n",
            "\u001b[K     |████████████████████████████████| 125 kB 12.8 MB/s \n",
            "\u001b[?25hCollecting docopt>=0.6.2\n",
            "  Downloading docopt-0.6.2.tar.gz (25 kB)\n",
            "Building wheels for collected packages: docopt\n",
            "  Building wheel for docopt (setup.py) ... \u001b[?25l\u001b[?25hdone\n",
            "  Created wheel for docopt: filename=docopt-0.6.2-py2.py3-none-any.whl size=13723 sha256=fbd46e13ac7ca594167d3ac9c2f330f101da510cd0ac8db872058273efe6e84e\n",
            "  Stored in directory: /root/.cache/pip/wheels/56/ea/58/ead137b087d9e326852a851351d1debf4ada529b6ac0ec4e8c\n",
            "Successfully built docopt\n",
            "Installing collected packages: docopt, num2words\n",
            "Successfully installed docopt-0.6.2 num2words-0.5.12\n",
            "Looking in indexes: https://pypi.org/simple, https://us-python.pkg.dev/colab-wheels/public/simple/\n",
            "Collecting pyspellchecker\n",
            "  Downloading pyspellchecker-0.7.0-py3-none-any.whl (2.5 MB)\n",
            "\u001b[K     |████████████████████████████████| 2.5 MB 27.3 MB/s \n",
            "\u001b[?25hInstalling collected packages: pyspellchecker\n",
            "Successfully installed pyspellchecker-0.7.0\n"
          ]
        }
      ],
      "source": [
        "import pandas as pd\n",
        "import numpy as np\n",
        "import csv\n",
        "import pandas as pd\n",
        "import nltk\n",
        "from nltk.corpus import stopwords   \n",
        "from nltk.tokenize import word_tokenize \n",
        "import nltk\n",
        "import re, string\n",
        "import nltk\n",
        "from nltk.tokenize import word_tokenize\n",
        "from nltk.corpus import stopwords\n",
        "from nltk.tokenize import word_tokenize\n",
        "from nltk.stem import SnowballStemmer\n",
        "from nltk.corpus import wordnet\n",
        "from nltk.stem import WordNetLemmatizer\n",
        "nltk.download('punkt')\n",
        "nltk.download('averaged_perceptron_tagger')\n",
        "nltk.download('wordnet')\n",
        "from sklearn.feature_extraction.text import TfidfVectorizer\n",
        "from sklearn.feature_extraction.text import CountVectorizer\n",
        "from sklearn.linear_model import LogisticRegression\n",
        "from sklearn.model_selection import train_test_split\n",
        "from sklearn.metrics import precision_recall_curve\n",
        "from sklearn.metrics import plot_precision_recall_curve\n",
        "from sklearn.metrics import precision_score\n",
        "from sklearn.metrics import recall_score\n",
        "from sklearn.metrics import accuracy_score\n",
        "import matplotlib.pyplot as plt\n",
        "from sklearn.svm import SVC\n",
        "from sklearn.neighbors import KNeighborsClassifier\n",
        "from sklearn.metrics import confusion_matrix\n",
        "nltk.download(\"stopwords\")\n",
        "from nltk.tokenize import word_tokenize  \n",
        "from sklearn.pipeline import Pipeline\n",
        "from sklearn.feature_extraction.text import TfidfTransformer\n",
        "from sklearn.feature_extraction.text import CountVectorizer\n",
        "from sklearn.naive_bayes import MultinomialNB\n",
        "\n",
        "from nltk.tokenize import word_tokenize, RegexpTokenizer\n",
        "from nltk.corpus import stopwords\n",
        "!pip install num2words\n",
        "from num2words import num2words\n",
        "!pip install pyspellchecker\n",
        "from spellchecker import SpellChecker\n",
        "from nltk.stem.porter import PorterStemmer\n",
        "import spacy\n",
        "from nltk.stem import WordNetLemmatizer"
      ]
    },
    {
      "cell_type": "code",
      "execution_count": 3,
      "id": "bedcd10c",
      "metadata": {
        "colab": {
          "base_uri": "https://localhost:8080/"
        },
        "id": "bedcd10c",
        "outputId": "45aa88c3-22a4-4422-fb51-6cbe21e9f51f"
      },
      "outputs": [
        {
          "output_type": "stream",
          "name": "stdout",
          "text": [
            "Looking in indexes: https://pypi.org/simple, https://us-python.pkg.dev/colab-wheels/public/simple/\n",
            "Requirement already satisfied: spacy in /usr/local/lib/python3.8/dist-packages (3.4.3)\n",
            "Requirement already satisfied: murmurhash<1.1.0,>=0.28.0 in /usr/local/lib/python3.8/dist-packages (from spacy) (1.0.9)\n",
            "Requirement already satisfied: requests<3.0.0,>=2.13.0 in /usr/local/lib/python3.8/dist-packages (from spacy) (2.23.0)\n",
            "Requirement already satisfied: thinc<8.2.0,>=8.1.0 in /usr/local/lib/python3.8/dist-packages (from spacy) (8.1.5)\n",
            "Requirement already satisfied: numpy>=1.15.0 in /usr/local/lib/python3.8/dist-packages (from spacy) (1.21.6)\n",
            "Requirement already satisfied: jinja2 in /usr/local/lib/python3.8/dist-packages (from spacy) (2.11.3)\n",
            "Requirement already satisfied: tqdm<5.0.0,>=4.38.0 in /usr/local/lib/python3.8/dist-packages (from spacy) (4.64.1)\n",
            "Requirement already satisfied: preshed<3.1.0,>=3.0.2 in /usr/local/lib/python3.8/dist-packages (from spacy) (3.0.8)\n",
            "Requirement already satisfied: langcodes<4.0.0,>=3.2.0 in /usr/local/lib/python3.8/dist-packages (from spacy) (3.3.0)\n",
            "Requirement already satisfied: wasabi<1.1.0,>=0.9.1 in /usr/local/lib/python3.8/dist-packages (from spacy) (0.10.1)\n",
            "Requirement already satisfied: pydantic!=1.8,!=1.8.1,<1.11.0,>=1.7.4 in /usr/local/lib/python3.8/dist-packages (from spacy) (1.10.2)\n",
            "Requirement already satisfied: setuptools in /usr/local/lib/python3.8/dist-packages (from spacy) (57.4.0)\n",
            "Requirement already satisfied: catalogue<2.1.0,>=2.0.6 in /usr/local/lib/python3.8/dist-packages (from spacy) (2.0.8)\n",
            "Requirement already satisfied: cymem<2.1.0,>=2.0.2 in /usr/local/lib/python3.8/dist-packages (from spacy) (2.0.7)\n",
            "Requirement already satisfied: spacy-loggers<2.0.0,>=1.0.0 in /usr/local/lib/python3.8/dist-packages (from spacy) (1.0.3)\n",
            "Requirement already satisfied: typer<0.8.0,>=0.3.0 in /usr/local/lib/python3.8/dist-packages (from spacy) (0.7.0)\n",
            "Requirement already satisfied: pathy>=0.3.5 in /usr/local/lib/python3.8/dist-packages (from spacy) (0.9.0)\n",
            "Requirement already satisfied: packaging>=20.0 in /usr/local/lib/python3.8/dist-packages (from spacy) (21.3)\n",
            "Requirement already satisfied: spacy-legacy<3.1.0,>=3.0.10 in /usr/local/lib/python3.8/dist-packages (from spacy) (3.0.10)\n",
            "Requirement already satisfied: srsly<3.0.0,>=2.4.3 in /usr/local/lib/python3.8/dist-packages (from spacy) (2.4.5)\n",
            "Requirement already satisfied: pyparsing!=3.0.5,>=2.0.2 in /usr/local/lib/python3.8/dist-packages (from packaging>=20.0->spacy) (3.0.9)\n",
            "Requirement already satisfied: smart-open<6.0.0,>=5.2.1 in /usr/local/lib/python3.8/dist-packages (from pathy>=0.3.5->spacy) (5.2.1)\n",
            "Requirement already satisfied: typing-extensions>=4.1.0 in /usr/local/lib/python3.8/dist-packages (from pydantic!=1.8,!=1.8.1,<1.11.0,>=1.7.4->spacy) (4.1.1)\n",
            "Requirement already satisfied: idna<3,>=2.5 in /usr/local/lib/python3.8/dist-packages (from requests<3.0.0,>=2.13.0->spacy) (2.10)\n",
            "Requirement already satisfied: urllib3!=1.25.0,!=1.25.1,<1.26,>=1.21.1 in /usr/local/lib/python3.8/dist-packages (from requests<3.0.0,>=2.13.0->spacy) (1.24.3)\n",
            "Requirement already satisfied: chardet<4,>=3.0.2 in /usr/local/lib/python3.8/dist-packages (from requests<3.0.0,>=2.13.0->spacy) (3.0.4)\n",
            "Requirement already satisfied: certifi>=2017.4.17 in /usr/local/lib/python3.8/dist-packages (from requests<3.0.0,>=2.13.0->spacy) (2022.9.24)\n",
            "Requirement already satisfied: confection<1.0.0,>=0.0.1 in /usr/local/lib/python3.8/dist-packages (from thinc<8.2.0,>=8.1.0->spacy) (0.0.3)\n",
            "Requirement already satisfied: blis<0.8.0,>=0.7.8 in /usr/local/lib/python3.8/dist-packages (from thinc<8.2.0,>=8.1.0->spacy) (0.7.9)\n",
            "Requirement already satisfied: click<9.0.0,>=7.1.1 in /usr/local/lib/python3.8/dist-packages (from typer<0.8.0,>=0.3.0->spacy) (7.1.2)\n",
            "Requirement already satisfied: MarkupSafe>=0.23 in /usr/local/lib/python3.8/dist-packages (from jinja2->spacy) (2.0.1)\n"
          ]
        }
      ],
      "source": [
        "!pip install spacy"
      ]
    },
    {
      "cell_type": "code",
      "execution_count": 4,
      "id": "28bb3916",
      "metadata": {
        "id": "28bb3916"
      },
      "outputs": [],
      "source": [
        "data=pd.read_csv(\"Product Review Data.csv\")"
      ]
    },
    {
      "cell_type": "code",
      "execution_count": 5,
      "id": "b1f1c48c",
      "metadata": {
        "colab": {
          "base_uri": "https://localhost:8080/",
          "height": 1000
        },
        "id": "b1f1c48c",
        "outputId": "f56c729e-baf8-4de0-b4b4-44d74f9aa0ce"
      },
      "outputs": [
        {
          "output_type": "execute_result",
          "data": {
            "text/plain": [
              "                     id       asins   brand                  categories  \\\n",
              "0  AVpe7AsMilAPnD_xQ78G  B00QJDU3KY  Amazon  Amazon Devices,mazon.co.uk   \n",
              "1  AVpe7AsMilAPnD_xQ78G  B00QJDU3KY  Amazon  Amazon Devices,mazon.co.uk   \n",
              "2  AVpe7AsMilAPnD_xQ78G  B00QJDU3KY  Amazon  Amazon Devices,mazon.co.uk   \n",
              "3  AVpe7AsMilAPnD_xQ78G  B00QJDU3KY  Amazon  Amazon Devices,mazon.co.uk   \n",
              "4  AVpe7AsMilAPnD_xQ78G  B00QJDU3KY  Amazon  Amazon Devices,mazon.co.uk   \n",
              "5  AVpe7AsMilAPnD_xQ78G  B00QJDU3KY  Amazon  Amazon Devices,mazon.co.uk   \n",
              "6  AVpe7AsMilAPnD_xQ78G  B00QJDU3KY  Amazon  Amazon Devices,mazon.co.uk   \n",
              "7  AVpe7AsMilAPnD_xQ78G  B00QJDU3KY  Amazon  Amazon Devices,mazon.co.uk   \n",
              "8  AVpe7AsMilAPnD_xQ78G  B00QJDU3KY  Amazon  Amazon Devices,mazon.co.uk   \n",
              "9  AVpe7AsMilAPnD_xQ78G  B00QJDU3KY  Amazon  Amazon Devices,mazon.co.uk   \n",
              "\n",
              "  colors             dateAdded           dateUpdated  \\\n",
              "0    NaN  2016-03-08T20:21:53Z  2017-07-18T23:52:58Z   \n",
              "1    NaN  2016-03-08T20:21:53Z  2017-07-18T23:52:58Z   \n",
              "2    NaN  2016-03-08T20:21:53Z  2017-07-18T23:52:58Z   \n",
              "3    NaN  2016-03-08T20:21:53Z  2017-07-18T23:52:58Z   \n",
              "4    NaN  2016-03-08T20:21:53Z  2017-07-18T23:52:58Z   \n",
              "5    NaN  2016-03-08T20:21:53Z  2017-07-18T23:52:58Z   \n",
              "6    NaN  2016-03-08T20:21:53Z  2017-07-18T23:52:58Z   \n",
              "7    NaN  2016-03-08T20:21:53Z  2017-07-18T23:52:58Z   \n",
              "8    NaN  2016-03-08T20:21:53Z  2017-07-18T23:52:58Z   \n",
              "9    NaN  2016-03-08T20:21:53Z  2017-07-18T23:52:58Z   \n",
              "\n",
              "                  dimension  ean                         keys  ...  \\\n",
              "0  169 mm x 117 mm x 9.1 mm  NaN  kindlepaperwhite/b00qjdu3ky  ...   \n",
              "1  169 mm x 117 mm x 9.1 mm  NaN  kindlepaperwhite/b00qjdu3ky  ...   \n",
              "2  169 mm x 117 mm x 9.1 mm  NaN  kindlepaperwhite/b00qjdu3ky  ...   \n",
              "3  169 mm x 117 mm x 9.1 mm  NaN  kindlepaperwhite/b00qjdu3ky  ...   \n",
              "4  169 mm x 117 mm x 9.1 mm  NaN  kindlepaperwhite/b00qjdu3ky  ...   \n",
              "5  169 mm x 117 mm x 9.1 mm  NaN  kindlepaperwhite/b00qjdu3ky  ...   \n",
              "6  169 mm x 117 mm x 9.1 mm  NaN  kindlepaperwhite/b00qjdu3ky  ...   \n",
              "7  169 mm x 117 mm x 9.1 mm  NaN  kindlepaperwhite/b00qjdu3ky  ...   \n",
              "8  169 mm x 117 mm x 9.1 mm  NaN  kindlepaperwhite/b00qjdu3ky  ...   \n",
              "9  169 mm x 117 mm x 9.1 mm  NaN  kindlepaperwhite/b00qjdu3ky  ...   \n",
              "\n",
              "  reviews.rating                                 reviews.sourceURLs  \\\n",
              "0            5.0  https://www.amazon.com/Kindle-Paperwhite-High-...   \n",
              "1            5.0  https://www.amazon.com/Kindle-Paperwhite-High-...   \n",
              "2            4.0  https://www.amazon.com/Kindle-Paperwhite-High-...   \n",
              "3            5.0  https://www.amazon.com/Kindle-Paperwhite-High-...   \n",
              "4            5.0  https://www.amazon.com/Kindle-Paperwhite-High-...   \n",
              "5            NaN  http://www.amazon.com/Kindle-Paperwhite-High-R...   \n",
              "6            NaN  http://www.amazon.com/Kindle-Paperwhite-High-R...   \n",
              "7            NaN  http://www.amazon.com/Kindle-Paperwhite-High-R...   \n",
              "8            NaN  http://www.amazon.com/Kindle-Paperwhite-High-R...   \n",
              "9            NaN  http://www.amazon.com/Kindle-Paperwhite-High-R...   \n",
              "\n",
              "                                        reviews.text  \\\n",
              "0  I initially had trouble deciding between the p...   \n",
              "1  Allow me to preface this with a little history...   \n",
              "2  I am enjoying it so far. Great for reading. Ha...   \n",
              "3  I bought one of the first Paperwhites and have...   \n",
              "4  I have to say upfront - I don't like coroporat...   \n",
              "5  My previous kindle was a DX, this is my second...   \n",
              "6  Allow me to preface this with a little history...   \n",
              "7  Just got mine right now. Looks the same as the...   \n",
              "8  I initially had trouble deciding between the p...   \n",
              "9  I am enjoying it so far. Great for reading. Ha...   \n",
              "\n",
              "                                       reviews.title reviews.userCity  \\\n",
              "0                     Paperwhite voyage, no regrets!              NaN   \n",
              "1                  One Simply Could Not Ask For More              NaN   \n",
              "2         Great for those that just want an e-reader              NaN   \n",
              "3                           Love / Hate relationship              NaN   \n",
              "4                                          I LOVE IT              NaN   \n",
              "5  Great device for reading. 8 people found this ...              NaN   \n",
              "6  One Simply Could Not Ask For More 28 people fo...              NaN   \n",
              "7  Definitely better than the previous generation...              NaN   \n",
              "8  Paperwhite voyage, no regrets! 16 people found...              NaN   \n",
              "9  Great for those that just want an e-reader 19 ...              NaN   \n",
              "\n",
              "  reviews.userProvince    reviews.username  sizes upc     weight  \n",
              "0                  NaN          Cristina M    NaN NaN  205 grams  \n",
              "1                  NaN               Ricky    NaN NaN  205 grams  \n",
              "2                  NaN       Tedd Gardiner    NaN NaN  205 grams  \n",
              "3                  NaN              Dougal    NaN NaN  205 grams  \n",
              "4                  NaN  Miljan David Tanic    NaN NaN  205 grams  \n",
              "5                  NaN          Kelvin Law    NaN NaN  205 grams  \n",
              "6                  NaN               Ricky    NaN NaN  205 grams  \n",
              "7                  NaN             Bandler    NaN NaN  205 grams  \n",
              "8                  NaN          Cristina M    NaN NaN  205 grams  \n",
              "9                  NaN       Tedd Gardiner    NaN NaN  205 grams  \n",
              "\n",
              "[10 rows x 27 columns]"
            ],
            "text/html": [
              "\n",
              "  <div id=\"df-2a6973aa-4f04-4a9f-99be-e7c6eb3b86b5\">\n",
              "    <div class=\"colab-df-container\">\n",
              "      <div>\n",
              "<style scoped>\n",
              "    .dataframe tbody tr th:only-of-type {\n",
              "        vertical-align: middle;\n",
              "    }\n",
              "\n",
              "    .dataframe tbody tr th {\n",
              "        vertical-align: top;\n",
              "    }\n",
              "\n",
              "    .dataframe thead th {\n",
              "        text-align: right;\n",
              "    }\n",
              "</style>\n",
              "<table border=\"1\" class=\"dataframe\">\n",
              "  <thead>\n",
              "    <tr style=\"text-align: right;\">\n",
              "      <th></th>\n",
              "      <th>id</th>\n",
              "      <th>asins</th>\n",
              "      <th>brand</th>\n",
              "      <th>categories</th>\n",
              "      <th>colors</th>\n",
              "      <th>dateAdded</th>\n",
              "      <th>dateUpdated</th>\n",
              "      <th>dimension</th>\n",
              "      <th>ean</th>\n",
              "      <th>keys</th>\n",
              "      <th>...</th>\n",
              "      <th>reviews.rating</th>\n",
              "      <th>reviews.sourceURLs</th>\n",
              "      <th>reviews.text</th>\n",
              "      <th>reviews.title</th>\n",
              "      <th>reviews.userCity</th>\n",
              "      <th>reviews.userProvince</th>\n",
              "      <th>reviews.username</th>\n",
              "      <th>sizes</th>\n",
              "      <th>upc</th>\n",
              "      <th>weight</th>\n",
              "    </tr>\n",
              "  </thead>\n",
              "  <tbody>\n",
              "    <tr>\n",
              "      <th>0</th>\n",
              "      <td>AVpe7AsMilAPnD_xQ78G</td>\n",
              "      <td>B00QJDU3KY</td>\n",
              "      <td>Amazon</td>\n",
              "      <td>Amazon Devices,mazon.co.uk</td>\n",
              "      <td>NaN</td>\n",
              "      <td>2016-03-08T20:21:53Z</td>\n",
              "      <td>2017-07-18T23:52:58Z</td>\n",
              "      <td>169 mm x 117 mm x 9.1 mm</td>\n",
              "      <td>NaN</td>\n",
              "      <td>kindlepaperwhite/b00qjdu3ky</td>\n",
              "      <td>...</td>\n",
              "      <td>5.0</td>\n",
              "      <td>https://www.amazon.com/Kindle-Paperwhite-High-...</td>\n",
              "      <td>I initially had trouble deciding between the p...</td>\n",
              "      <td>Paperwhite voyage, no regrets!</td>\n",
              "      <td>NaN</td>\n",
              "      <td>NaN</td>\n",
              "      <td>Cristina M</td>\n",
              "      <td>NaN</td>\n",
              "      <td>NaN</td>\n",
              "      <td>205 grams</td>\n",
              "    </tr>\n",
              "    <tr>\n",
              "      <th>1</th>\n",
              "      <td>AVpe7AsMilAPnD_xQ78G</td>\n",
              "      <td>B00QJDU3KY</td>\n",
              "      <td>Amazon</td>\n",
              "      <td>Amazon Devices,mazon.co.uk</td>\n",
              "      <td>NaN</td>\n",
              "      <td>2016-03-08T20:21:53Z</td>\n",
              "      <td>2017-07-18T23:52:58Z</td>\n",
              "      <td>169 mm x 117 mm x 9.1 mm</td>\n",
              "      <td>NaN</td>\n",
              "      <td>kindlepaperwhite/b00qjdu3ky</td>\n",
              "      <td>...</td>\n",
              "      <td>5.0</td>\n",
              "      <td>https://www.amazon.com/Kindle-Paperwhite-High-...</td>\n",
              "      <td>Allow me to preface this with a little history...</td>\n",
              "      <td>One Simply Could Not Ask For More</td>\n",
              "      <td>NaN</td>\n",
              "      <td>NaN</td>\n",
              "      <td>Ricky</td>\n",
              "      <td>NaN</td>\n",
              "      <td>NaN</td>\n",
              "      <td>205 grams</td>\n",
              "    </tr>\n",
              "    <tr>\n",
              "      <th>2</th>\n",
              "      <td>AVpe7AsMilAPnD_xQ78G</td>\n",
              "      <td>B00QJDU3KY</td>\n",
              "      <td>Amazon</td>\n",
              "      <td>Amazon Devices,mazon.co.uk</td>\n",
              "      <td>NaN</td>\n",
              "      <td>2016-03-08T20:21:53Z</td>\n",
              "      <td>2017-07-18T23:52:58Z</td>\n",
              "      <td>169 mm x 117 mm x 9.1 mm</td>\n",
              "      <td>NaN</td>\n",
              "      <td>kindlepaperwhite/b00qjdu3ky</td>\n",
              "      <td>...</td>\n",
              "      <td>4.0</td>\n",
              "      <td>https://www.amazon.com/Kindle-Paperwhite-High-...</td>\n",
              "      <td>I am enjoying it so far. Great for reading. Ha...</td>\n",
              "      <td>Great for those that just want an e-reader</td>\n",
              "      <td>NaN</td>\n",
              "      <td>NaN</td>\n",
              "      <td>Tedd Gardiner</td>\n",
              "      <td>NaN</td>\n",
              "      <td>NaN</td>\n",
              "      <td>205 grams</td>\n",
              "    </tr>\n",
              "    <tr>\n",
              "      <th>3</th>\n",
              "      <td>AVpe7AsMilAPnD_xQ78G</td>\n",
              "      <td>B00QJDU3KY</td>\n",
              "      <td>Amazon</td>\n",
              "      <td>Amazon Devices,mazon.co.uk</td>\n",
              "      <td>NaN</td>\n",
              "      <td>2016-03-08T20:21:53Z</td>\n",
              "      <td>2017-07-18T23:52:58Z</td>\n",
              "      <td>169 mm x 117 mm x 9.1 mm</td>\n",
              "      <td>NaN</td>\n",
              "      <td>kindlepaperwhite/b00qjdu3ky</td>\n",
              "      <td>...</td>\n",
              "      <td>5.0</td>\n",
              "      <td>https://www.amazon.com/Kindle-Paperwhite-High-...</td>\n",
              "      <td>I bought one of the first Paperwhites and have...</td>\n",
              "      <td>Love / Hate relationship</td>\n",
              "      <td>NaN</td>\n",
              "      <td>NaN</td>\n",
              "      <td>Dougal</td>\n",
              "      <td>NaN</td>\n",
              "      <td>NaN</td>\n",
              "      <td>205 grams</td>\n",
              "    </tr>\n",
              "    <tr>\n",
              "      <th>4</th>\n",
              "      <td>AVpe7AsMilAPnD_xQ78G</td>\n",
              "      <td>B00QJDU3KY</td>\n",
              "      <td>Amazon</td>\n",
              "      <td>Amazon Devices,mazon.co.uk</td>\n",
              "      <td>NaN</td>\n",
              "      <td>2016-03-08T20:21:53Z</td>\n",
              "      <td>2017-07-18T23:52:58Z</td>\n",
              "      <td>169 mm x 117 mm x 9.1 mm</td>\n",
              "      <td>NaN</td>\n",
              "      <td>kindlepaperwhite/b00qjdu3ky</td>\n",
              "      <td>...</td>\n",
              "      <td>5.0</td>\n",
              "      <td>https://www.amazon.com/Kindle-Paperwhite-High-...</td>\n",
              "      <td>I have to say upfront - I don't like coroporat...</td>\n",
              "      <td>I LOVE IT</td>\n",
              "      <td>NaN</td>\n",
              "      <td>NaN</td>\n",
              "      <td>Miljan David Tanic</td>\n",
              "      <td>NaN</td>\n",
              "      <td>NaN</td>\n",
              "      <td>205 grams</td>\n",
              "    </tr>\n",
              "    <tr>\n",
              "      <th>5</th>\n",
              "      <td>AVpe7AsMilAPnD_xQ78G</td>\n",
              "      <td>B00QJDU3KY</td>\n",
              "      <td>Amazon</td>\n",
              "      <td>Amazon Devices,mazon.co.uk</td>\n",
              "      <td>NaN</td>\n",
              "      <td>2016-03-08T20:21:53Z</td>\n",
              "      <td>2017-07-18T23:52:58Z</td>\n",
              "      <td>169 mm x 117 mm x 9.1 mm</td>\n",
              "      <td>NaN</td>\n",
              "      <td>kindlepaperwhite/b00qjdu3ky</td>\n",
              "      <td>...</td>\n",
              "      <td>NaN</td>\n",
              "      <td>http://www.amazon.com/Kindle-Paperwhite-High-R...</td>\n",
              "      <td>My previous kindle was a DX, this is my second...</td>\n",
              "      <td>Great device for reading. 8 people found this ...</td>\n",
              "      <td>NaN</td>\n",
              "      <td>NaN</td>\n",
              "      <td>Kelvin Law</td>\n",
              "      <td>NaN</td>\n",
              "      <td>NaN</td>\n",
              "      <td>205 grams</td>\n",
              "    </tr>\n",
              "    <tr>\n",
              "      <th>6</th>\n",
              "      <td>AVpe7AsMilAPnD_xQ78G</td>\n",
              "      <td>B00QJDU3KY</td>\n",
              "      <td>Amazon</td>\n",
              "      <td>Amazon Devices,mazon.co.uk</td>\n",
              "      <td>NaN</td>\n",
              "      <td>2016-03-08T20:21:53Z</td>\n",
              "      <td>2017-07-18T23:52:58Z</td>\n",
              "      <td>169 mm x 117 mm x 9.1 mm</td>\n",
              "      <td>NaN</td>\n",
              "      <td>kindlepaperwhite/b00qjdu3ky</td>\n",
              "      <td>...</td>\n",
              "      <td>NaN</td>\n",
              "      <td>http://www.amazon.com/Kindle-Paperwhite-High-R...</td>\n",
              "      <td>Allow me to preface this with a little history...</td>\n",
              "      <td>One Simply Could Not Ask For More 28 people fo...</td>\n",
              "      <td>NaN</td>\n",
              "      <td>NaN</td>\n",
              "      <td>Ricky</td>\n",
              "      <td>NaN</td>\n",
              "      <td>NaN</td>\n",
              "      <td>205 grams</td>\n",
              "    </tr>\n",
              "    <tr>\n",
              "      <th>7</th>\n",
              "      <td>AVpe7AsMilAPnD_xQ78G</td>\n",
              "      <td>B00QJDU3KY</td>\n",
              "      <td>Amazon</td>\n",
              "      <td>Amazon Devices,mazon.co.uk</td>\n",
              "      <td>NaN</td>\n",
              "      <td>2016-03-08T20:21:53Z</td>\n",
              "      <td>2017-07-18T23:52:58Z</td>\n",
              "      <td>169 mm x 117 mm x 9.1 mm</td>\n",
              "      <td>NaN</td>\n",
              "      <td>kindlepaperwhite/b00qjdu3ky</td>\n",
              "      <td>...</td>\n",
              "      <td>NaN</td>\n",
              "      <td>http://www.amazon.com/Kindle-Paperwhite-High-R...</td>\n",
              "      <td>Just got mine right now. Looks the same as the...</td>\n",
              "      <td>Definitely better than the previous generation...</td>\n",
              "      <td>NaN</td>\n",
              "      <td>NaN</td>\n",
              "      <td>Bandler</td>\n",
              "      <td>NaN</td>\n",
              "      <td>NaN</td>\n",
              "      <td>205 grams</td>\n",
              "    </tr>\n",
              "    <tr>\n",
              "      <th>8</th>\n",
              "      <td>AVpe7AsMilAPnD_xQ78G</td>\n",
              "      <td>B00QJDU3KY</td>\n",
              "      <td>Amazon</td>\n",
              "      <td>Amazon Devices,mazon.co.uk</td>\n",
              "      <td>NaN</td>\n",
              "      <td>2016-03-08T20:21:53Z</td>\n",
              "      <td>2017-07-18T23:52:58Z</td>\n",
              "      <td>169 mm x 117 mm x 9.1 mm</td>\n",
              "      <td>NaN</td>\n",
              "      <td>kindlepaperwhite/b00qjdu3ky</td>\n",
              "      <td>...</td>\n",
              "      <td>NaN</td>\n",
              "      <td>http://www.amazon.com/Kindle-Paperwhite-High-R...</td>\n",
              "      <td>I initially had trouble deciding between the p...</td>\n",
              "      <td>Paperwhite voyage, no regrets! 16 people found...</td>\n",
              "      <td>NaN</td>\n",
              "      <td>NaN</td>\n",
              "      <td>Cristina M</td>\n",
              "      <td>NaN</td>\n",
              "      <td>NaN</td>\n",
              "      <td>205 grams</td>\n",
              "    </tr>\n",
              "    <tr>\n",
              "      <th>9</th>\n",
              "      <td>AVpe7AsMilAPnD_xQ78G</td>\n",
              "      <td>B00QJDU3KY</td>\n",
              "      <td>Amazon</td>\n",
              "      <td>Amazon Devices,mazon.co.uk</td>\n",
              "      <td>NaN</td>\n",
              "      <td>2016-03-08T20:21:53Z</td>\n",
              "      <td>2017-07-18T23:52:58Z</td>\n",
              "      <td>169 mm x 117 mm x 9.1 mm</td>\n",
              "      <td>NaN</td>\n",
              "      <td>kindlepaperwhite/b00qjdu3ky</td>\n",
              "      <td>...</td>\n",
              "      <td>NaN</td>\n",
              "      <td>http://www.amazon.com/Kindle-Paperwhite-High-R...</td>\n",
              "      <td>I am enjoying it so far. Great for reading. Ha...</td>\n",
              "      <td>Great for those that just want an e-reader 19 ...</td>\n",
              "      <td>NaN</td>\n",
              "      <td>NaN</td>\n",
              "      <td>Tedd Gardiner</td>\n",
              "      <td>NaN</td>\n",
              "      <td>NaN</td>\n",
              "      <td>205 grams</td>\n",
              "    </tr>\n",
              "  </tbody>\n",
              "</table>\n",
              "<p>10 rows × 27 columns</p>\n",
              "</div>\n",
              "      <button class=\"colab-df-convert\" onclick=\"convertToInteractive('df-2a6973aa-4f04-4a9f-99be-e7c6eb3b86b5')\"\n",
              "              title=\"Convert this dataframe to an interactive table.\"\n",
              "              style=\"display:none;\">\n",
              "        \n",
              "  <svg xmlns=\"http://www.w3.org/2000/svg\" height=\"24px\"viewBox=\"0 0 24 24\"\n",
              "       width=\"24px\">\n",
              "    <path d=\"M0 0h24v24H0V0z\" fill=\"none\"/>\n",
              "    <path d=\"M18.56 5.44l.94 2.06.94-2.06 2.06-.94-2.06-.94-.94-2.06-.94 2.06-2.06.94zm-11 1L8.5 8.5l.94-2.06 2.06-.94-2.06-.94L8.5 2.5l-.94 2.06-2.06.94zm10 10l.94 2.06.94-2.06 2.06-.94-2.06-.94-.94-2.06-.94 2.06-2.06.94z\"/><path d=\"M17.41 7.96l-1.37-1.37c-.4-.4-.92-.59-1.43-.59-.52 0-1.04.2-1.43.59L10.3 9.45l-7.72 7.72c-.78.78-.78 2.05 0 2.83L4 21.41c.39.39.9.59 1.41.59.51 0 1.02-.2 1.41-.59l7.78-7.78 2.81-2.81c.8-.78.8-2.07 0-2.86zM5.41 20L4 18.59l7.72-7.72 1.47 1.35L5.41 20z\"/>\n",
              "  </svg>\n",
              "      </button>\n",
              "      \n",
              "  <style>\n",
              "    .colab-df-container {\n",
              "      display:flex;\n",
              "      flex-wrap:wrap;\n",
              "      gap: 12px;\n",
              "    }\n",
              "\n",
              "    .colab-df-convert {\n",
              "      background-color: #E8F0FE;\n",
              "      border: none;\n",
              "      border-radius: 50%;\n",
              "      cursor: pointer;\n",
              "      display: none;\n",
              "      fill: #1967D2;\n",
              "      height: 32px;\n",
              "      padding: 0 0 0 0;\n",
              "      width: 32px;\n",
              "    }\n",
              "\n",
              "    .colab-df-convert:hover {\n",
              "      background-color: #E2EBFA;\n",
              "      box-shadow: 0px 1px 2px rgba(60, 64, 67, 0.3), 0px 1px 3px 1px rgba(60, 64, 67, 0.15);\n",
              "      fill: #174EA6;\n",
              "    }\n",
              "\n",
              "    [theme=dark] .colab-df-convert {\n",
              "      background-color: #3B4455;\n",
              "      fill: #D2E3FC;\n",
              "    }\n",
              "\n",
              "    [theme=dark] .colab-df-convert:hover {\n",
              "      background-color: #434B5C;\n",
              "      box-shadow: 0px 1px 3px 1px rgba(0, 0, 0, 0.15);\n",
              "      filter: drop-shadow(0px 1px 2px rgba(0, 0, 0, 0.3));\n",
              "      fill: #FFFFFF;\n",
              "    }\n",
              "  </style>\n",
              "\n",
              "      <script>\n",
              "        const buttonEl =\n",
              "          document.querySelector('#df-2a6973aa-4f04-4a9f-99be-e7c6eb3b86b5 button.colab-df-convert');\n",
              "        buttonEl.style.display =\n",
              "          google.colab.kernel.accessAllowed ? 'block' : 'none';\n",
              "\n",
              "        async function convertToInteractive(key) {\n",
              "          const element = document.querySelector('#df-2a6973aa-4f04-4a9f-99be-e7c6eb3b86b5');\n",
              "          const dataTable =\n",
              "            await google.colab.kernel.invokeFunction('convertToInteractive',\n",
              "                                                     [key], {});\n",
              "          if (!dataTable) return;\n",
              "\n",
              "          const docLinkHtml = 'Like what you see? Visit the ' +\n",
              "            '<a target=\"_blank\" href=https://colab.research.google.com/notebooks/data_table.ipynb>data table notebook</a>'\n",
              "            + ' to learn more about interactive tables.';\n",
              "          element.innerHTML = '';\n",
              "          dataTable['output_type'] = 'display_data';\n",
              "          await google.colab.output.renderOutput(dataTable, element);\n",
              "          const docLink = document.createElement('div');\n",
              "          docLink.innerHTML = docLinkHtml;\n",
              "          element.appendChild(docLink);\n",
              "        }\n",
              "      </script>\n",
              "    </div>\n",
              "  </div>\n",
              "  "
            ]
          },
          "metadata": {},
          "execution_count": 5
        }
      ],
      "source": [
        "data.head(10)"
      ]
    },
    {
      "cell_type": "code",
      "execution_count": 6,
      "id": "98ac0b2e",
      "metadata": {
        "colab": {
          "base_uri": "https://localhost:8080/"
        },
        "id": "98ac0b2e",
        "outputId": "57f8bc7d-3f81-41f5-e13d-92b7dffa4c38"
      },
      "outputs": [
        {
          "output_type": "execute_result",
          "data": {
            "text/plain": [
              "Index(['id', 'asins', 'brand', 'categories', 'colors', 'dateAdded',\n",
              "       'dateUpdated', 'dimension', 'ean', 'keys', 'manufacturer',\n",
              "       'manufacturerNumber', 'name', 'prices', 'reviews.date',\n",
              "       'reviews.doRecommend', 'reviews.numHelpful', 'reviews.rating',\n",
              "       'reviews.sourceURLs', 'reviews.text', 'reviews.title',\n",
              "       'reviews.userCity', 'reviews.userProvince', 'reviews.username', 'sizes',\n",
              "       'upc', 'weight'],\n",
              "      dtype='object')"
            ]
          },
          "metadata": {},
          "execution_count": 6
        }
      ],
      "source": [
        "data.columns"
      ]
    },
    {
      "cell_type": "code",
      "execution_count": 7,
      "id": "002f130e",
      "metadata": {
        "id": "002f130e"
      },
      "outputs": [],
      "source": [
        "data=data.drop(columns=[\"id\",\"asins\",\"brand\",\"categories\",\"colors\",\"dateAdded\",\"dateUpdated\",\"dimension\",\"ean\",\"keys\",\"manufacturer\",'manufacturerNumber', 'name', 'prices', 'reviews.date',\n",
        "       'reviews.doRecommend', 'reviews.numHelpful',\n",
        "       'reviews.sourceURLs',\n",
        "       'reviews.userCity', 'reviews.userProvince', 'reviews.username', 'sizes',\n",
        "       'upc', 'weight'])"
      ]
    },
    {
      "cell_type": "code",
      "execution_count": 8,
      "id": "38a24136",
      "metadata": {
        "colab": {
          "base_uri": "https://localhost:8080/",
          "height": 641
        },
        "id": "38a24136",
        "outputId": "91220f8d-dcef-4d59-b79d-0a328fc8feac"
      },
      "outputs": [
        {
          "output_type": "execute_result",
          "data": {
            "text/plain": [
              "      reviews.rating                                       reviews.text  \\\n",
              "0                5.0  I initially had trouble deciding between the p...   \n",
              "1                5.0  Allow me to preface this with a little history...   \n",
              "2                4.0  I am enjoying it so far. Great for reading. Ha...   \n",
              "3                5.0  I bought one of the first Paperwhites and have...   \n",
              "4                5.0  I have to say upfront - I don't like coroporat...   \n",
              "...              ...                                                ...   \n",
              "1592             3.0  This is not the same remote that I got for my ...   \n",
              "1593             1.0  I have had to change the batteries in this rem...   \n",
              "1594             1.0  Remote did not activate, nor did it connect to...   \n",
              "1595             3.0  It does the job but is super over priced. I fe...   \n",
              "1596             1.0  I ordered this item to replace the one that no...   \n",
              "\n",
              "                                          reviews.title  \n",
              "0                        Paperwhite voyage, no regrets!  \n",
              "1                     One Simply Could Not Ask For More  \n",
              "2            Great for those that just want an e-reader  \n",
              "3                              Love / Hate relationship  \n",
              "4                                             I LOVE IT  \n",
              "...                                                 ...  \n",
              "1592  I would be disappointed with myself if i produ...  \n",
              "1593                        Battery draining remote!!!!  \n",
              "1594      replacing an even worse remote. Waste of time  \n",
              "1595                                         Overpriced  \n",
              "1596  I am sending all of this crap back to amazon a...  \n",
              "\n",
              "[1597 rows x 3 columns]"
            ],
            "text/html": [
              "\n",
              "  <div id=\"df-fb957266-68ba-4254-a095-e85dfd9eeba7\">\n",
              "    <div class=\"colab-df-container\">\n",
              "      <div>\n",
              "<style scoped>\n",
              "    .dataframe tbody tr th:only-of-type {\n",
              "        vertical-align: middle;\n",
              "    }\n",
              "\n",
              "    .dataframe tbody tr th {\n",
              "        vertical-align: top;\n",
              "    }\n",
              "\n",
              "    .dataframe thead th {\n",
              "        text-align: right;\n",
              "    }\n",
              "</style>\n",
              "<table border=\"1\" class=\"dataframe\">\n",
              "  <thead>\n",
              "    <tr style=\"text-align: right;\">\n",
              "      <th></th>\n",
              "      <th>reviews.rating</th>\n",
              "      <th>reviews.text</th>\n",
              "      <th>reviews.title</th>\n",
              "    </tr>\n",
              "  </thead>\n",
              "  <tbody>\n",
              "    <tr>\n",
              "      <th>0</th>\n",
              "      <td>5.0</td>\n",
              "      <td>I initially had trouble deciding between the p...</td>\n",
              "      <td>Paperwhite voyage, no regrets!</td>\n",
              "    </tr>\n",
              "    <tr>\n",
              "      <th>1</th>\n",
              "      <td>5.0</td>\n",
              "      <td>Allow me to preface this with a little history...</td>\n",
              "      <td>One Simply Could Not Ask For More</td>\n",
              "    </tr>\n",
              "    <tr>\n",
              "      <th>2</th>\n",
              "      <td>4.0</td>\n",
              "      <td>I am enjoying it so far. Great for reading. Ha...</td>\n",
              "      <td>Great for those that just want an e-reader</td>\n",
              "    </tr>\n",
              "    <tr>\n",
              "      <th>3</th>\n",
              "      <td>5.0</td>\n",
              "      <td>I bought one of the first Paperwhites and have...</td>\n",
              "      <td>Love / Hate relationship</td>\n",
              "    </tr>\n",
              "    <tr>\n",
              "      <th>4</th>\n",
              "      <td>5.0</td>\n",
              "      <td>I have to say upfront - I don't like coroporat...</td>\n",
              "      <td>I LOVE IT</td>\n",
              "    </tr>\n",
              "    <tr>\n",
              "      <th>...</th>\n",
              "      <td>...</td>\n",
              "      <td>...</td>\n",
              "      <td>...</td>\n",
              "    </tr>\n",
              "    <tr>\n",
              "      <th>1592</th>\n",
              "      <td>3.0</td>\n",
              "      <td>This is not the same remote that I got for my ...</td>\n",
              "      <td>I would be disappointed with myself if i produ...</td>\n",
              "    </tr>\n",
              "    <tr>\n",
              "      <th>1593</th>\n",
              "      <td>1.0</td>\n",
              "      <td>I have had to change the batteries in this rem...</td>\n",
              "      <td>Battery draining remote!!!!</td>\n",
              "    </tr>\n",
              "    <tr>\n",
              "      <th>1594</th>\n",
              "      <td>1.0</td>\n",
              "      <td>Remote did not activate, nor did it connect to...</td>\n",
              "      <td>replacing an even worse remote. Waste of time</td>\n",
              "    </tr>\n",
              "    <tr>\n",
              "      <th>1595</th>\n",
              "      <td>3.0</td>\n",
              "      <td>It does the job but is super over priced. I fe...</td>\n",
              "      <td>Overpriced</td>\n",
              "    </tr>\n",
              "    <tr>\n",
              "      <th>1596</th>\n",
              "      <td>1.0</td>\n",
              "      <td>I ordered this item to replace the one that no...</td>\n",
              "      <td>I am sending all of this crap back to amazon a...</td>\n",
              "    </tr>\n",
              "  </tbody>\n",
              "</table>\n",
              "<p>1597 rows × 3 columns</p>\n",
              "</div>\n",
              "      <button class=\"colab-df-convert\" onclick=\"convertToInteractive('df-fb957266-68ba-4254-a095-e85dfd9eeba7')\"\n",
              "              title=\"Convert this dataframe to an interactive table.\"\n",
              "              style=\"display:none;\">\n",
              "        \n",
              "  <svg xmlns=\"http://www.w3.org/2000/svg\" height=\"24px\"viewBox=\"0 0 24 24\"\n",
              "       width=\"24px\">\n",
              "    <path d=\"M0 0h24v24H0V0z\" fill=\"none\"/>\n",
              "    <path d=\"M18.56 5.44l.94 2.06.94-2.06 2.06-.94-2.06-.94-.94-2.06-.94 2.06-2.06.94zm-11 1L8.5 8.5l.94-2.06 2.06-.94-2.06-.94L8.5 2.5l-.94 2.06-2.06.94zm10 10l.94 2.06.94-2.06 2.06-.94-2.06-.94-.94-2.06-.94 2.06-2.06.94z\"/><path d=\"M17.41 7.96l-1.37-1.37c-.4-.4-.92-.59-1.43-.59-.52 0-1.04.2-1.43.59L10.3 9.45l-7.72 7.72c-.78.78-.78 2.05 0 2.83L4 21.41c.39.39.9.59 1.41.59.51 0 1.02-.2 1.41-.59l7.78-7.78 2.81-2.81c.8-.78.8-2.07 0-2.86zM5.41 20L4 18.59l7.72-7.72 1.47 1.35L5.41 20z\"/>\n",
              "  </svg>\n",
              "      </button>\n",
              "      \n",
              "  <style>\n",
              "    .colab-df-container {\n",
              "      display:flex;\n",
              "      flex-wrap:wrap;\n",
              "      gap: 12px;\n",
              "    }\n",
              "\n",
              "    .colab-df-convert {\n",
              "      background-color: #E8F0FE;\n",
              "      border: none;\n",
              "      border-radius: 50%;\n",
              "      cursor: pointer;\n",
              "      display: none;\n",
              "      fill: #1967D2;\n",
              "      height: 32px;\n",
              "      padding: 0 0 0 0;\n",
              "      width: 32px;\n",
              "    }\n",
              "\n",
              "    .colab-df-convert:hover {\n",
              "      background-color: #E2EBFA;\n",
              "      box-shadow: 0px 1px 2px rgba(60, 64, 67, 0.3), 0px 1px 3px 1px rgba(60, 64, 67, 0.15);\n",
              "      fill: #174EA6;\n",
              "    }\n",
              "\n",
              "    [theme=dark] .colab-df-convert {\n",
              "      background-color: #3B4455;\n",
              "      fill: #D2E3FC;\n",
              "    }\n",
              "\n",
              "    [theme=dark] .colab-df-convert:hover {\n",
              "      background-color: #434B5C;\n",
              "      box-shadow: 0px 1px 3px 1px rgba(0, 0, 0, 0.15);\n",
              "      filter: drop-shadow(0px 1px 2px rgba(0, 0, 0, 0.3));\n",
              "      fill: #FFFFFF;\n",
              "    }\n",
              "  </style>\n",
              "\n",
              "      <script>\n",
              "        const buttonEl =\n",
              "          document.querySelector('#df-fb957266-68ba-4254-a095-e85dfd9eeba7 button.colab-df-convert');\n",
              "        buttonEl.style.display =\n",
              "          google.colab.kernel.accessAllowed ? 'block' : 'none';\n",
              "\n",
              "        async function convertToInteractive(key) {\n",
              "          const element = document.querySelector('#df-fb957266-68ba-4254-a095-e85dfd9eeba7');\n",
              "          const dataTable =\n",
              "            await google.colab.kernel.invokeFunction('convertToInteractive',\n",
              "                                                     [key], {});\n",
              "          if (!dataTable) return;\n",
              "\n",
              "          const docLinkHtml = 'Like what you see? Visit the ' +\n",
              "            '<a target=\"_blank\" href=https://colab.research.google.com/notebooks/data_table.ipynb>data table notebook</a>'\n",
              "            + ' to learn more about interactive tables.';\n",
              "          element.innerHTML = '';\n",
              "          dataTable['output_type'] = 'display_data';\n",
              "          await google.colab.output.renderOutput(dataTable, element);\n",
              "          const docLink = document.createElement('div');\n",
              "          docLink.innerHTML = docLinkHtml;\n",
              "          element.appendChild(docLink);\n",
              "        }\n",
              "      </script>\n",
              "    </div>\n",
              "  </div>\n",
              "  "
            ]
          },
          "metadata": {},
          "execution_count": 8
        }
      ],
      "source": [
        "data"
      ]
    },
    {
      "cell_type": "code",
      "execution_count": 9,
      "id": "cec12df6",
      "metadata": {
        "id": "cec12df6"
      },
      "outputs": [],
      "source": [
        "data=data.rename(columns={'reviews.rating':'rating','reviews.text':'text','reviews.title':'title'})"
      ]
    },
    {
      "cell_type": "code",
      "execution_count": 10,
      "id": "f5065fa4",
      "metadata": {
        "colab": {
          "base_uri": "https://localhost:8080/"
        },
        "id": "f5065fa4",
        "outputId": "970e7680-ff71-4c97-86fb-f579820d836e"
      },
      "outputs": [
        {
          "output_type": "stream",
          "name": "stdout",
          "text": [
            "(1177, 3)\n"
          ]
        },
        {
          "output_type": "execute_result",
          "data": {
            "text/plain": [
              "rating    False\n",
              "text      False\n",
              "title     False\n",
              "dtype: bool"
            ]
          },
          "metadata": {},
          "execution_count": 10
        }
      ],
      "source": [
        "data.dropna(how=\"any\",axis=0,inplace=True)\n",
        "\n",
        "print(data.shape)\n",
        "data.isnull().any()"
      ]
    },
    {
      "cell_type": "code",
      "execution_count": 11,
      "id": "6cf4c8a6",
      "metadata": {
        "id": "6cf4c8a6"
      },
      "outputs": [],
      "source": [
        "regexp = RegexpTokenizer(\"[\\w']+\")"
      ]
    },
    {
      "cell_type": "code",
      "execution_count": 12,
      "id": "44a1c1a2",
      "metadata": {
        "colab": {
          "base_uri": "https://localhost:8080/"
        },
        "id": "44a1c1a2",
        "outputId": "5d44e99c-1e51-4ef6-df69-852d5a9b43f9"
      },
      "outputs": [
        {
          "output_type": "stream",
          "name": "stdout",
          "text": [
            "Input: BAtMan and SuperMan aRe Enemies\n",
            "Output: batman and superman are enemies\n"
          ]
        }
      ],
      "source": [
        "def convert_to_lowercase(text):\n",
        "    return text.lower()\n",
        "\n",
        "text = \"BAtMan and SuperMan aRe Enemies\"\n",
        "print(\"Input: {}\".format(text))\n",
        "print(\"Output: {}\".format(convert_to_lowercase(text)))"
      ]
    },
    {
      "cell_type": "code",
      "execution_count": 13,
      "id": "1b7474d7",
      "metadata": {
        "colab": {
          "base_uri": "https://localhost:8080/"
        },
        "id": "1b7474d7",
        "outputId": "61a65506-fa80-418d-a37e-c2db1438328c"
      },
      "outputs": [
        {
          "output_type": "stream",
          "name": "stdout",
          "text": [
            "Input:  \t Bhanu is good boy\t \n",
            "Output: Bhanu is good boy\n"
          ]
        }
      ],
      "source": [
        "def remove_whitespace(text):\n",
        "    return text.strip()\n",
        "\n",
        "text = \" \\t Bhanu is good boy\\t \"\n",
        "print(\"Input: {}\".format(text))\n",
        "print(\"Output: {}\".format(remove_whitespace(text)))"
      ]
    },
    {
      "cell_type": "markdown",
      "source": [],
      "metadata": {
        "id": "nBvFNTVjw_pE"
      },
      "id": "nBvFNTVjw_pE"
    },
    {
      "cell_type": "code",
      "execution_count": 14,
      "id": "c57ba907",
      "metadata": {
        "colab": {
          "base_uri": "https://localhost:8080/"
        },
        "id": "c57ba907",
        "outputId": "27658c79-926c-4afc-e8c2-e42914ff8d07"
      },
      "outputs": [
        {
          "output_type": "stream",
          "name": "stdout",
          "text": [
            "Input:  [and] Computer science? {of} &University of Texas.? Arlington!!!!\n",
            "Output:  and Computer science of University of Texas Arlington\n"
          ]
        }
      ],
      "source": [
        "def remove_punctuation(text):\n",
        "    punct_str = string.punctuation\n",
        "    punct_str = punct_str.replace(\"'\", \"\") # discarding apostrophe from the string to keep the contractions intact\n",
        "    return text.translate(str.maketrans(\"\", \"\", punct_str))\n",
        "\n",
        "text = \" [and] Computer science? {of} &University of Texas.? Arlington!!!!\"\n",
        "print(\"Input: {}\".format(text))\n",
        "print(\"Output: {}\".format(remove_punctuation(text)))"
      ]
    },
    {
      "cell_type": "code",
      "execution_count": 15,
      "id": "4cc80387",
      "metadata": {
        "colab": {
          "base_uri": "https://localhost:8080/"
        },
        "id": "4cc80387",
        "outputId": "701166d4-cc87-40d8-dcb3-e0e91b5fc4f8"
      },
      "outputs": [
        {
          "output_type": "stream",
          "name": "stdout",
          "text": [
            "Input:  BAtMan and SuperMan aRe Enemies\n",
            "Output:  BAtMan and SuperMan aRe Enemies\n"
          ]
        }
      ],
      "source": [
        "def remove_html(text):\n",
        "    html = re.compile(r'<.*?>')\n",
        "    return html.sub(r'', text)\n",
        "\n",
        "text = ' BAtMan and SuperMan aRe Enemies'\n",
        "print(\"Input: {}\".format(text))\n",
        "print(\"Output: {}\".format(remove_html(text)))"
      ]
    },
    {
      "cell_type": "code",
      "execution_count": 16,
      "id": "4b9beb76",
      "metadata": {
        "colab": {
          "base_uri": "https://localhost:8080/"
        },
        "id": "4b9beb76",
        "outputId": "17ac6ae4-e0d9-4f87-a8d6-584799d2e800"
      },
      "outputs": [
        {
          "output_type": "stream",
          "name": "stdout",
          "text": [
            "Input: HELLO WORLD 😊\n",
            "Output: HELLO WORLD \n"
          ]
        }
      ],
      "source": [
        "def remove_emoji(text):\n",
        "    emoji_pattern = re.compile(\"[\"\n",
        "                           u\"\\U0001F600-\\U0001F64F\"  \n",
        "                           u\"\\U0001F300-\\U0001F5FF\"  \n",
        "                           u\"\\U0001F680-\\U0001F6FF\"  \n",
        "                           u\"\\U0001F1E0-\\U0001F1FF\"  \n",
        "                           u\"\\U00002702-\\U000027B0\"\n",
        "                           u\"\\U000024C2-\\U0001F251\"\n",
        "                           \"]+\", flags = re.UNICODE)\n",
        "    return emoji_pattern.sub(r'', text)\n",
        "\n",
        "text = \"HELLO WORLD 😊\"\n",
        "print(\"Input: {}\".format(text))\n",
        "print(\"Output: {}\".format(remove_emoji(text)))"
      ]
    },
    {
      "cell_type": "code",
      "execution_count": 18,
      "id": "4e6acfa3",
      "metadata": {
        "colab": {
          "base_uri": "https://localhost:8080/"
        },
        "id": "4e6acfa3",
        "outputId": "30c13618-c26e-4621-9a1b-ada5d7cf2636"
      },
      "outputs": [
        {
          "output_type": "stream",
          "name": "stdout",
          "text": [
            "Input: It's a function that removes links starting with http: or https such as https://en.wikipedia.org/wiki/Unicode_symbols\n",
            "Output: It's a function that removes links starting with http: or https such as \n"
          ]
        }
      ],
      "source": [
        "def remove_http(text):\n",
        "    http = \"https?://\\S+|www\\.\\S+\" \n",
        "    pattern = r\"({})\".format(http) \n",
        "    return re.sub(pattern, \"\", text)\n",
        "\n",
        "text = \"It's a function that removes links starting with http: or https such as https://en.wikipedia.org/wiki/Unicode_symbols\"\n",
        "print(\"Input: {}\".format(text))\n",
        "print(\"Output: {}\".format(remove_http(text)))"
      ]
    },
    {
      "cell_type": "code",
      "execution_count": 19,
      "id": "4eb691f9",
      "metadata": {
        "colab": {
          "base_uri": "https://localhost:8080/"
        },
        "id": "4eb691f9",
        "outputId": "244916fd-1cdd-4ca8-bc1b-bafad7f0212c"
      },
      "outputs": [
        {
          "output_type": "stream",
          "name": "stdout",
          "text": [
            "Example: Original form of the acronym 'fyi' is 'for your information'\n"
          ]
        }
      ],
      "source": [
        "acronyms_url = 'https://raw.githubusercontent.com/sugatagh/E-commerce-Text-Classification/main/JSON/english_acronyms.json'\n",
        "acronyms_dict = pd.read_json(acronyms_url, typ = 'series')\n",
        "\n",
        "print(\"Example: Original form of the acronym 'fyi' is '{}'\".format(acronyms_dict['fyi']))"
      ]
    },
    {
      "cell_type": "code",
      "execution_count": 20,
      "id": "610c3ddc",
      "metadata": {
        "colab": {
          "base_uri": "https://localhost:8080/",
          "height": 206
        },
        "id": "610c3ddc",
        "outputId": "423e825f-7415-4c88-d838-c60971c53276"
      },
      "outputs": [
        {
          "output_type": "execute_result",
          "data": {
            "text/plain": [
              "  acronym             original\n",
              "0     aka        also known as\n",
              "1    asap  as soon as possible\n",
              "2     brb        be right back\n",
              "3     btw           by the way\n",
              "4     dob        date of birth"
            ],
            "text/html": [
              "\n",
              "  <div id=\"df-899bd415-6f13-4708-b993-2751d6339b3c\">\n",
              "    <div class=\"colab-df-container\">\n",
              "      <div>\n",
              "<style scoped>\n",
              "    .dataframe tbody tr th:only-of-type {\n",
              "        vertical-align: middle;\n",
              "    }\n",
              "\n",
              "    .dataframe tbody tr th {\n",
              "        vertical-align: top;\n",
              "    }\n",
              "\n",
              "    .dataframe thead th {\n",
              "        text-align: right;\n",
              "    }\n",
              "</style>\n",
              "<table border=\"1\" class=\"dataframe\">\n",
              "  <thead>\n",
              "    <tr style=\"text-align: right;\">\n",
              "      <th></th>\n",
              "      <th>acronym</th>\n",
              "      <th>original</th>\n",
              "    </tr>\n",
              "  </thead>\n",
              "  <tbody>\n",
              "    <tr>\n",
              "      <th>0</th>\n",
              "      <td>aka</td>\n",
              "      <td>also known as</td>\n",
              "    </tr>\n",
              "    <tr>\n",
              "      <th>1</th>\n",
              "      <td>asap</td>\n",
              "      <td>as soon as possible</td>\n",
              "    </tr>\n",
              "    <tr>\n",
              "      <th>2</th>\n",
              "      <td>brb</td>\n",
              "      <td>be right back</td>\n",
              "    </tr>\n",
              "    <tr>\n",
              "      <th>3</th>\n",
              "      <td>btw</td>\n",
              "      <td>by the way</td>\n",
              "    </tr>\n",
              "    <tr>\n",
              "      <th>4</th>\n",
              "      <td>dob</td>\n",
              "      <td>date of birth</td>\n",
              "    </tr>\n",
              "  </tbody>\n",
              "</table>\n",
              "</div>\n",
              "      <button class=\"colab-df-convert\" onclick=\"convertToInteractive('df-899bd415-6f13-4708-b993-2751d6339b3c')\"\n",
              "              title=\"Convert this dataframe to an interactive table.\"\n",
              "              style=\"display:none;\">\n",
              "        \n",
              "  <svg xmlns=\"http://www.w3.org/2000/svg\" height=\"24px\"viewBox=\"0 0 24 24\"\n",
              "       width=\"24px\">\n",
              "    <path d=\"M0 0h24v24H0V0z\" fill=\"none\"/>\n",
              "    <path d=\"M18.56 5.44l.94 2.06.94-2.06 2.06-.94-2.06-.94-.94-2.06-.94 2.06-2.06.94zm-11 1L8.5 8.5l.94-2.06 2.06-.94-2.06-.94L8.5 2.5l-.94 2.06-2.06.94zm10 10l.94 2.06.94-2.06 2.06-.94-2.06-.94-.94-2.06-.94 2.06-2.06.94z\"/><path d=\"M17.41 7.96l-1.37-1.37c-.4-.4-.92-.59-1.43-.59-.52 0-1.04.2-1.43.59L10.3 9.45l-7.72 7.72c-.78.78-.78 2.05 0 2.83L4 21.41c.39.39.9.59 1.41.59.51 0 1.02-.2 1.41-.59l7.78-7.78 2.81-2.81c.8-.78.8-2.07 0-2.86zM5.41 20L4 18.59l7.72-7.72 1.47 1.35L5.41 20z\"/>\n",
              "  </svg>\n",
              "      </button>\n",
              "      \n",
              "  <style>\n",
              "    .colab-df-container {\n",
              "      display:flex;\n",
              "      flex-wrap:wrap;\n",
              "      gap: 12px;\n",
              "    }\n",
              "\n",
              "    .colab-df-convert {\n",
              "      background-color: #E8F0FE;\n",
              "      border: none;\n",
              "      border-radius: 50%;\n",
              "      cursor: pointer;\n",
              "      display: none;\n",
              "      fill: #1967D2;\n",
              "      height: 32px;\n",
              "      padding: 0 0 0 0;\n",
              "      width: 32px;\n",
              "    }\n",
              "\n",
              "    .colab-df-convert:hover {\n",
              "      background-color: #E2EBFA;\n",
              "      box-shadow: 0px 1px 2px rgba(60, 64, 67, 0.3), 0px 1px 3px 1px rgba(60, 64, 67, 0.15);\n",
              "      fill: #174EA6;\n",
              "    }\n",
              "\n",
              "    [theme=dark] .colab-df-convert {\n",
              "      background-color: #3B4455;\n",
              "      fill: #D2E3FC;\n",
              "    }\n",
              "\n",
              "    [theme=dark] .colab-df-convert:hover {\n",
              "      background-color: #434B5C;\n",
              "      box-shadow: 0px 1px 3px 1px rgba(0, 0, 0, 0.15);\n",
              "      filter: drop-shadow(0px 1px 2px rgba(0, 0, 0, 0.3));\n",
              "      fill: #FFFFFF;\n",
              "    }\n",
              "  </style>\n",
              "\n",
              "      <script>\n",
              "        const buttonEl =\n",
              "          document.querySelector('#df-899bd415-6f13-4708-b993-2751d6339b3c button.colab-df-convert');\n",
              "        buttonEl.style.display =\n",
              "          google.colab.kernel.accessAllowed ? 'block' : 'none';\n",
              "\n",
              "        async function convertToInteractive(key) {\n",
              "          const element = document.querySelector('#df-899bd415-6f13-4708-b993-2751d6339b3c');\n",
              "          const dataTable =\n",
              "            await google.colab.kernel.invokeFunction('convertToInteractive',\n",
              "                                                     [key], {});\n",
              "          if (!dataTable) return;\n",
              "\n",
              "          const docLinkHtml = 'Like what you see? Visit the ' +\n",
              "            '<a target=\"_blank\" href=https://colab.research.google.com/notebooks/data_table.ipynb>data table notebook</a>'\n",
              "            + ' to learn more about interactive tables.';\n",
              "          element.innerHTML = '';\n",
              "          dataTable['output_type'] = 'display_data';\n",
              "          await google.colab.output.renderOutput(dataTable, element);\n",
              "          const docLink = document.createElement('div');\n",
              "          docLink.innerHTML = docLinkHtml;\n",
              "          element.appendChild(docLink);\n",
              "        }\n",
              "      </script>\n",
              "    </div>\n",
              "  </div>\n",
              "  "
            ]
          },
          "metadata": {},
          "execution_count": 20
        }
      ],
      "source": [
        "pd.DataFrame(acronyms_dict.items(), columns = ['acronym', 'original']).head()"
      ]
    },
    {
      "cell_type": "code",
      "execution_count": 22,
      "id": "00c286a2",
      "metadata": {
        "id": "00c286a2"
      },
      "outputs": [],
      "source": [
        "acronyms_list = list(acronyms_dict.keys())"
      ]
    },
    {
      "cell_type": "code",
      "execution_count": 23,
      "id": "e04179cf",
      "metadata": {
        "colab": {
          "base_uri": "https://localhost:8080/"
        },
        "id": "e04179cf",
        "outputId": "fc2ac684-ad36-46f2-d186-6c50e105fdf4"
      },
      "outputs": [
        {
          "output_type": "stream",
          "name": "stdout",
          "text": [
            "Input: btw you've to fill in the details including dob\n",
            "Output: by the way you've to fill in the details including date of birth\n"
          ]
        }
      ],
      "source": [
        "def convert_acronyms(text):\n",
        "    words = []\n",
        "    for word in regexp.tokenize(text):\n",
        "        if word in acronyms_list:\n",
        "            words = words + acronyms_dict[word].split()\n",
        "        else:\n",
        "            words = words + word.split()\n",
        "    \n",
        "    text_converted = \" \".join(words)\n",
        "    return text_converted\n",
        "\n",
        "text = \"btw you've to fill in the details including dob\"\n",
        "print(\"Input: {}\".format(text))\n",
        "print(\"Output: {}\".format(convert_acronyms(text)))"
      ]
    },
    {
      "cell_type": "code",
      "execution_count": 24,
      "id": "64dc12d6",
      "metadata": {
        "colab": {
          "base_uri": "https://localhost:8080/"
        },
        "id": "64dc12d6",
        "outputId": "605e7513-971c-499a-eb09-04f802de0e7c"
      },
      "outputs": [
        {
          "output_type": "stream",
          "name": "stdout",
          "text": [
            "Example: Original form of the contraction 'aren't' is 'are not'\n"
          ]
        }
      ],
      "source": [
        "contractions_url = 'https://raw.githubusercontent.com/sugatagh/E-commerce-Text-Classification/main/JSON/english_contractions.json'\n",
        "contractions_dict = pd.read_json(contractions_url, typ = 'series')\n",
        "\n",
        "print(\"Example: Original form of the contraction 'aren't' is '{}'\".format(contractions_dict[\"aren't\"]))"
      ]
    },
    {
      "cell_type": "code",
      "execution_count": 25,
      "id": "91e1ee33",
      "metadata": {
        "colab": {
          "base_uri": "https://localhost:8080/",
          "height": 206
        },
        "id": "91e1ee33",
        "outputId": "9728eb7f-a93c-45b5-da94-ced29d7def50"
      },
      "outputs": [
        {
          "output_type": "execute_result",
          "data": {
            "text/plain": [
              "  contraction     original\n",
              "0      'aight      alright\n",
              "1       ain't      are not\n",
              "2       amn't       am not\n",
              "3     arencha  are not you\n",
              "4      aren't      are not"
            ],
            "text/html": [
              "\n",
              "  <div id=\"df-ad140dda-1516-45a0-8f30-71f48f26a989\">\n",
              "    <div class=\"colab-df-container\">\n",
              "      <div>\n",
              "<style scoped>\n",
              "    .dataframe tbody tr th:only-of-type {\n",
              "        vertical-align: middle;\n",
              "    }\n",
              "\n",
              "    .dataframe tbody tr th {\n",
              "        vertical-align: top;\n",
              "    }\n",
              "\n",
              "    .dataframe thead th {\n",
              "        text-align: right;\n",
              "    }\n",
              "</style>\n",
              "<table border=\"1\" class=\"dataframe\">\n",
              "  <thead>\n",
              "    <tr style=\"text-align: right;\">\n",
              "      <th></th>\n",
              "      <th>contraction</th>\n",
              "      <th>original</th>\n",
              "    </tr>\n",
              "  </thead>\n",
              "  <tbody>\n",
              "    <tr>\n",
              "      <th>0</th>\n",
              "      <td>'aight</td>\n",
              "      <td>alright</td>\n",
              "    </tr>\n",
              "    <tr>\n",
              "      <th>1</th>\n",
              "      <td>ain't</td>\n",
              "      <td>are not</td>\n",
              "    </tr>\n",
              "    <tr>\n",
              "      <th>2</th>\n",
              "      <td>amn't</td>\n",
              "      <td>am not</td>\n",
              "    </tr>\n",
              "    <tr>\n",
              "      <th>3</th>\n",
              "      <td>arencha</td>\n",
              "      <td>are not you</td>\n",
              "    </tr>\n",
              "    <tr>\n",
              "      <th>4</th>\n",
              "      <td>aren't</td>\n",
              "      <td>are not</td>\n",
              "    </tr>\n",
              "  </tbody>\n",
              "</table>\n",
              "</div>\n",
              "      <button class=\"colab-df-convert\" onclick=\"convertToInteractive('df-ad140dda-1516-45a0-8f30-71f48f26a989')\"\n",
              "              title=\"Convert this dataframe to an interactive table.\"\n",
              "              style=\"display:none;\">\n",
              "        \n",
              "  <svg xmlns=\"http://www.w3.org/2000/svg\" height=\"24px\"viewBox=\"0 0 24 24\"\n",
              "       width=\"24px\">\n",
              "    <path d=\"M0 0h24v24H0V0z\" fill=\"none\"/>\n",
              "    <path d=\"M18.56 5.44l.94 2.06.94-2.06 2.06-.94-2.06-.94-.94-2.06-.94 2.06-2.06.94zm-11 1L8.5 8.5l.94-2.06 2.06-.94-2.06-.94L8.5 2.5l-.94 2.06-2.06.94zm10 10l.94 2.06.94-2.06 2.06-.94-2.06-.94-.94-2.06-.94 2.06-2.06.94z\"/><path d=\"M17.41 7.96l-1.37-1.37c-.4-.4-.92-.59-1.43-.59-.52 0-1.04.2-1.43.59L10.3 9.45l-7.72 7.72c-.78.78-.78 2.05 0 2.83L4 21.41c.39.39.9.59 1.41.59.51 0 1.02-.2 1.41-.59l7.78-7.78 2.81-2.81c.8-.78.8-2.07 0-2.86zM5.41 20L4 18.59l7.72-7.72 1.47 1.35L5.41 20z\"/>\n",
              "  </svg>\n",
              "      </button>\n",
              "      \n",
              "  <style>\n",
              "    .colab-df-container {\n",
              "      display:flex;\n",
              "      flex-wrap:wrap;\n",
              "      gap: 12px;\n",
              "    }\n",
              "\n",
              "    .colab-df-convert {\n",
              "      background-color: #E8F0FE;\n",
              "      border: none;\n",
              "      border-radius: 50%;\n",
              "      cursor: pointer;\n",
              "      display: none;\n",
              "      fill: #1967D2;\n",
              "      height: 32px;\n",
              "      padding: 0 0 0 0;\n",
              "      width: 32px;\n",
              "    }\n",
              "\n",
              "    .colab-df-convert:hover {\n",
              "      background-color: #E2EBFA;\n",
              "      box-shadow: 0px 1px 2px rgba(60, 64, 67, 0.3), 0px 1px 3px 1px rgba(60, 64, 67, 0.15);\n",
              "      fill: #174EA6;\n",
              "    }\n",
              "\n",
              "    [theme=dark] .colab-df-convert {\n",
              "      background-color: #3B4455;\n",
              "      fill: #D2E3FC;\n",
              "    }\n",
              "\n",
              "    [theme=dark] .colab-df-convert:hover {\n",
              "      background-color: #434B5C;\n",
              "      box-shadow: 0px 1px 3px 1px rgba(0, 0, 0, 0.15);\n",
              "      filter: drop-shadow(0px 1px 2px rgba(0, 0, 0, 0.3));\n",
              "      fill: #FFFFFF;\n",
              "    }\n",
              "  </style>\n",
              "\n",
              "      <script>\n",
              "        const buttonEl =\n",
              "          document.querySelector('#df-ad140dda-1516-45a0-8f30-71f48f26a989 button.colab-df-convert');\n",
              "        buttonEl.style.display =\n",
              "          google.colab.kernel.accessAllowed ? 'block' : 'none';\n",
              "\n",
              "        async function convertToInteractive(key) {\n",
              "          const element = document.querySelector('#df-ad140dda-1516-45a0-8f30-71f48f26a989');\n",
              "          const dataTable =\n",
              "            await google.colab.kernel.invokeFunction('convertToInteractive',\n",
              "                                                     [key], {});\n",
              "          if (!dataTable) return;\n",
              "\n",
              "          const docLinkHtml = 'Like what you see? Visit the ' +\n",
              "            '<a target=\"_blank\" href=https://colab.research.google.com/notebooks/data_table.ipynb>data table notebook</a>'\n",
              "            + ' to learn more about interactive tables.';\n",
              "          element.innerHTML = '';\n",
              "          dataTable['output_type'] = 'display_data';\n",
              "          await google.colab.output.renderOutput(dataTable, element);\n",
              "          const docLink = document.createElement('div');\n",
              "          docLink.innerHTML = docLinkHtml;\n",
              "          element.appendChild(docLink);\n",
              "        }\n",
              "      </script>\n",
              "    </div>\n",
              "  </div>\n",
              "  "
            ]
          },
          "metadata": {},
          "execution_count": 25
        }
      ],
      "source": [
        "pd.DataFrame(contractions_dict.items(), columns = ['contraction', 'original']).head()"
      ]
    },
    {
      "cell_type": "code",
      "execution_count": 26,
      "id": "612e2de6",
      "metadata": {
        "id": "612e2de6"
      },
      "outputs": [],
      "source": [
        "contractions_list = list(contractions_dict.keys())"
      ]
    },
    {
      "cell_type": "code",
      "execution_count": 27,
      "id": "971d3219",
      "metadata": {
        "colab": {
          "base_uri": "https://localhost:8080/"
        },
        "id": "971d3219",
        "outputId": "e001c633-c27e-45f2-a187-19fa35af3110"
      },
      "outputs": [
        {
          "output_type": "stream",
          "name": "stdout",
          "text": [
            "Input: HI-HELLO\n",
            "Output: HI HELLO\n"
          ]
        }
      ],
      "source": [
        "def convert_contractions(text):\n",
        "    words = []\n",
        "    for word in regexp.tokenize(text):\n",
        "        if word in contractions_list:\n",
        "            words = words + contractions_dict[word].split()\n",
        "        else:\n",
        "            words = words + word.split()\n",
        "    \n",
        "    text_converted = \" \".join(words)\n",
        "    return text_converted\n",
        "\n",
        "text = \"HI-HELLO\"\n",
        "print(\"Input: {}\".format(text))\n",
        "print(\"Output: {}\".format(convert_contractions(text)))"
      ]
    },
    {
      "cell_type": "code",
      "execution_count": 28,
      "id": "dc23b5af",
      "metadata": {
        "colab": {
          "base_uri": "https://localhost:8080/"
        },
        "id": "dc23b5af",
        "outputId": "0c3d185c-1b3d-477d-ff2c-7b6b366e81fe"
      },
      "outputs": [
        {
          "output_type": "stream",
          "name": "stdout",
          "text": [
            "['i', 'me', 'my', 'myself', 'we', 'our', 'ours', 'ourselves', 'you', \"you're\", \"you've\", \"you'll\", \"you'd\", 'your', 'yours', 'yourself', 'yourselves', 'he', 'him', 'his', 'himself', 'she', \"she's\", 'her', 'hers', 'herself', 'it', \"it's\", 'its', 'itself', 'they', 'them', 'their', 'theirs', 'themselves', 'what', 'which', 'who', 'whom', 'this', 'that', \"that'll\", 'these', 'those', 'am', 'is', 'are', 'was', 'were', 'be', 'been', 'being', 'have', 'has', 'had', 'having', 'do', 'does', 'did', 'doing', 'a', 'an', 'the', 'and', 'but', 'if', 'or', 'because', 'as', 'until', 'while', 'of', 'at', 'by', 'for', 'with', 'about', 'against', 'between', 'into', 'through', 'during', 'before', 'after', 'above', 'below', 'to', 'from', 'up', 'down', 'in', 'out', 'on', 'off', 'over', 'under', 'again', 'further', 'then', 'once', 'here', 'there', 'when', 'where', 'why', 'how', 'all', 'any', 'both', 'each', 'few', 'more', 'most', 'other', 'some', 'such', 'no', 'nor', 'not', 'only', 'own', 'same', 'so', 'than', 'too', 'very', 's', 't', 'can', 'will', 'just', 'don', \"don't\", 'should', \"should've\", 'now', 'd', 'll', 'm', 'o', 're', 've', 'y', 'ain', 'aren', \"aren't\", 'couldn', \"couldn't\", 'didn', \"didn't\", 'doesn', \"doesn't\", 'hadn', \"hadn't\", 'hasn', \"hasn't\", 'haven', \"haven't\", 'isn', \"isn't\", 'ma', 'mightn', \"mightn't\", 'mustn', \"mustn't\", 'needn', \"needn't\", 'shan', \"shan't\", 'shouldn', \"shouldn't\", 'wasn', \"wasn't\", 'weren', \"weren't\", 'won', \"won't\", 'wouldn', \"wouldn't\", 'among', 'onto', 'shall', 'thrice', 'thus', 'twice', 'unto', 'us', 'would']\n"
          ]
        }
      ],
      "source": [
        "stops = stopwords.words(\"english\") \n",
        "addstops = [\"among\", \"onto\", \"shall\", \"thrice\", \"thus\", \"twice\", \"unto\", \"us\", \"would\"] # additional stopwords\n",
        "allstops = stops + addstops\n",
        "\n",
        "print(allstops)"
      ]
    },
    {
      "cell_type": "code",
      "execution_count": 30,
      "id": "f9d4caf1",
      "metadata": {
        "colab": {
          "base_uri": "https://localhost:8080/"
        },
        "id": "f9d4caf1",
        "outputId": "2e37f46e-1191-49b6-f9bf-f48b690ebd29"
      },
      "outputs": [
        {
          "output_type": "stream",
          "name": "stdout",
          "text": [
            "Input: hai world\n",
            "Output: hai world\n"
          ]
        }
      ],
      "source": [
        "def remove_stopwords(text):\n",
        "    return \" \".join([word for word in regexp.tokenize(text) if word not in allstops])\n",
        "\n",
        "text = \"hai world\"\n",
        "print(\"Input: {}\".format(text))\n",
        "print(\"Output: {}\".format(remove_stopwords(text)))"
      ]
    },
    {
      "cell_type": "code",
      "execution_count": 34,
      "id": "3e3a1db2",
      "metadata": {
        "colab": {
          "base_uri": "https://localhost:8080/"
        },
        "id": "3e3a1db2",
        "outputId": "05402162-71a9-46fa-849e-bfcf09189ef1"
      },
      "outputs": [
        {
          "output_type": "stream",
          "name": "stdout",
          "text": [
            "Input: I'm goinng therre\n",
            "Output: I'm going there\n"
          ]
        }
      ],
      "source": [
        "spell = SpellChecker()\n",
        "\n",
        "def pyspellchecker(text):\n",
        "    word_list = regexp.tokenize(text)\n",
        "    word_list_corrected = []\n",
        "    for word in word_list:\n",
        "        if word in spell.unknown(word_list):\n",
        "            word_corrected = spell.correction(word)\n",
        "            if word_corrected == None:\n",
        "                word_list_corrected.append(word)\n",
        "            else:\n",
        "                word_list_corrected.append(word_corrected)\n",
        "        else:\n",
        "            word_list_corrected.append(word)\n",
        "    text_corrected = \" \".join(word_list_corrected)\n",
        "    return text_corrected\n",
        "\n",
        "text = \"I'm goinng therre\"\n",
        "print(\"Input: {}\".format(text))\n",
        "print(\"Output: {}\".format(pyspellchecker(text)))"
      ]
    },
    {
      "cell_type": "code",
      "execution_count": 31,
      "id": "650469b4",
      "metadata": {
        "colab": {
          "base_uri": "https://localhost:8080/"
        },
        "id": "650469b4",
        "outputId": "231e0cc1-3968-438c-db0d-5ca89ffdfc58"
      },
      "outputs": [
        {
          "output_type": "stream",
          "name": "stdout",
          "text": [
            "Input: Cloudy temperature is using the fog\n",
            "Output: cloudi temperatur is use the fog\n"
          ]
        }
      ],
      "source": [
        "stemmer = PorterStemmer()\n",
        "def text_stemmer(text):\n",
        "    text_stem = \" \".join([stemmer.stem(word) for word in regexp.tokenize(text)])\n",
        "    return text_stem\n",
        "\n",
        "text = \"Cloudy temperature is using the fog\"\n",
        "print(\"Input: {}\".format(text))\n",
        "print(\"Output: {}\".format(text_stemmer(text)))"
      ]
    },
    {
      "cell_type": "code",
      "execution_count": 36,
      "id": "26c88c5e",
      "metadata": {
        "id": "26c88c5e"
      },
      "outputs": [],
      "source": [
        "import spacy"
      ]
    },
    {
      "cell_type": "code",
      "execution_count": 32,
      "id": "83ee1874",
      "metadata": {
        "colab": {
          "base_uri": "https://localhost:8080/"
        },
        "id": "83ee1874",
        "outputId": "fab0e0a0-8ac5-4f54-a1b6-db5946d30217"
      },
      "outputs": [
        {
          "output_type": "stream",
          "name": "stdout",
          "text": [
            "Input: Cloudy temperature is using the fog\n",
            "Output: cloudy temperature be use the fog\n"
          ]
        }
      ],
      "source": [
        "spacy_lemmatizer = spacy.load(\"en_core_web_sm\", disable = ['parser', 'ner'])\n",
        "\n",
        "\n",
        "def text_lemmatizer(text):\n",
        "    text_spacy = \" \".join([token.lemma_ for token in spacy_lemmatizer(text)])\n",
        "    return text_spacy\n",
        "    \n",
        "\n",
        "text = \"Cloudy temperature is using the fog\"\n",
        "print(\"Input: {}\".format(text))\n",
        "print(\"Output: {}\".format(text_lemmatizer(text)))"
      ]
    },
    {
      "cell_type": "code",
      "execution_count": 38,
      "id": "08555913",
      "metadata": {
        "colab": {
          "base_uri": "https://localhost:8080/"
        },
        "id": "08555913",
        "outputId": "e02c6108-31de-4816-9261-3f20e0fd669c"
      },
      "outputs": [
        {
          "output_type": "stream",
          "name": "stdout",
          "text": [
            "2022-12-04 08:38:50.306795: E tensorflow/stream_executor/cuda/cuda_driver.cc:271] failed call to cuInit: CUDA_ERROR_NO_DEVICE: no CUDA-capable device is detected\n",
            "Looking in indexes: https://pypi.org/simple, https://us-python.pkg.dev/colab-wheels/public/simple/\n",
            "Collecting en-core-web-sm==3.4.1\n",
            "  Downloading https://github.com/explosion/spacy-models/releases/download/en_core_web_sm-3.4.1/en_core_web_sm-3.4.1-py3-none-any.whl (12.8 MB)\n",
            "\u001b[K     |████████████████████████████████| 12.8 MB 24.1 MB/s \n",
            "\u001b[?25hRequirement already satisfied: spacy<3.5.0,>=3.4.0 in /usr/local/lib/python3.8/dist-packages (from en-core-web-sm==3.4.1) (3.4.3)\n",
            "Requirement already satisfied: srsly<3.0.0,>=2.4.3 in /usr/local/lib/python3.8/dist-packages (from spacy<3.5.0,>=3.4.0->en-core-web-sm==3.4.1) (2.4.5)\n",
            "Requirement already satisfied: tqdm<5.0.0,>=4.38.0 in /usr/local/lib/python3.8/dist-packages (from spacy<3.5.0,>=3.4.0->en-core-web-sm==3.4.1) (4.64.1)\n",
            "Requirement already satisfied: pydantic!=1.8,!=1.8.1,<1.11.0,>=1.7.4 in /usr/local/lib/python3.8/dist-packages (from spacy<3.5.0,>=3.4.0->en-core-web-sm==3.4.1) (1.10.2)\n",
            "Requirement already satisfied: wasabi<1.1.0,>=0.9.1 in /usr/local/lib/python3.8/dist-packages (from spacy<3.5.0,>=3.4.0->en-core-web-sm==3.4.1) (0.10.1)\n",
            "Requirement already satisfied: pathy>=0.3.5 in /usr/local/lib/python3.8/dist-packages (from spacy<3.5.0,>=3.4.0->en-core-web-sm==3.4.1) (0.9.0)\n",
            "Requirement already satisfied: catalogue<2.1.0,>=2.0.6 in /usr/local/lib/python3.8/dist-packages (from spacy<3.5.0,>=3.4.0->en-core-web-sm==3.4.1) (2.0.8)\n",
            "Requirement already satisfied: setuptools in /usr/local/lib/python3.8/dist-packages (from spacy<3.5.0,>=3.4.0->en-core-web-sm==3.4.1) (57.4.0)\n",
            "Requirement already satisfied: jinja2 in /usr/local/lib/python3.8/dist-packages (from spacy<3.5.0,>=3.4.0->en-core-web-sm==3.4.1) (2.11.3)\n",
            "Requirement already satisfied: murmurhash<1.1.0,>=0.28.0 in /usr/local/lib/python3.8/dist-packages (from spacy<3.5.0,>=3.4.0->en-core-web-sm==3.4.1) (1.0.9)\n",
            "Requirement already satisfied: spacy-loggers<2.0.0,>=1.0.0 in /usr/local/lib/python3.8/dist-packages (from spacy<3.5.0,>=3.4.0->en-core-web-sm==3.4.1) (1.0.3)\n",
            "Requirement already satisfied: typer<0.8.0,>=0.3.0 in /usr/local/lib/python3.8/dist-packages (from spacy<3.5.0,>=3.4.0->en-core-web-sm==3.4.1) (0.7.0)\n",
            "Requirement already satisfied: spacy-legacy<3.1.0,>=3.0.10 in /usr/local/lib/python3.8/dist-packages (from spacy<3.5.0,>=3.4.0->en-core-web-sm==3.4.1) (3.0.10)\n",
            "Requirement already satisfied: langcodes<4.0.0,>=3.2.0 in /usr/local/lib/python3.8/dist-packages (from spacy<3.5.0,>=3.4.0->en-core-web-sm==3.4.1) (3.3.0)\n",
            "Requirement already satisfied: packaging>=20.0 in /usr/local/lib/python3.8/dist-packages (from spacy<3.5.0,>=3.4.0->en-core-web-sm==3.4.1) (21.3)\n",
            "Requirement already satisfied: preshed<3.1.0,>=3.0.2 in /usr/local/lib/python3.8/dist-packages (from spacy<3.5.0,>=3.4.0->en-core-web-sm==3.4.1) (3.0.8)\n",
            "Requirement already satisfied: requests<3.0.0,>=2.13.0 in /usr/local/lib/python3.8/dist-packages (from spacy<3.5.0,>=3.4.0->en-core-web-sm==3.4.1) (2.23.0)\n",
            "Requirement already satisfied: thinc<8.2.0,>=8.1.0 in /usr/local/lib/python3.8/dist-packages (from spacy<3.5.0,>=3.4.0->en-core-web-sm==3.4.1) (8.1.5)\n",
            "Requirement already satisfied: numpy>=1.15.0 in /usr/local/lib/python3.8/dist-packages (from spacy<3.5.0,>=3.4.0->en-core-web-sm==3.4.1) (1.21.6)\n",
            "Requirement already satisfied: cymem<2.1.0,>=2.0.2 in /usr/local/lib/python3.8/dist-packages (from spacy<3.5.0,>=3.4.0->en-core-web-sm==3.4.1) (2.0.7)\n",
            "Requirement already satisfied: pyparsing!=3.0.5,>=2.0.2 in /usr/local/lib/python3.8/dist-packages (from packaging>=20.0->spacy<3.5.0,>=3.4.0->en-core-web-sm==3.4.1) (3.0.9)\n",
            "Requirement already satisfied: smart-open<6.0.0,>=5.2.1 in /usr/local/lib/python3.8/dist-packages (from pathy>=0.3.5->spacy<3.5.0,>=3.4.0->en-core-web-sm==3.4.1) (5.2.1)\n",
            "Requirement already satisfied: typing-extensions>=4.1.0 in /usr/local/lib/python3.8/dist-packages (from pydantic!=1.8,!=1.8.1,<1.11.0,>=1.7.4->spacy<3.5.0,>=3.4.0->en-core-web-sm==3.4.1) (4.1.1)\n",
            "Requirement already satisfied: certifi>=2017.4.17 in /usr/local/lib/python3.8/dist-packages (from requests<3.0.0,>=2.13.0->spacy<3.5.0,>=3.4.0->en-core-web-sm==3.4.1) (2022.9.24)\n",
            "Requirement already satisfied: idna<3,>=2.5 in /usr/local/lib/python3.8/dist-packages (from requests<3.0.0,>=2.13.0->spacy<3.5.0,>=3.4.0->en-core-web-sm==3.4.1) (2.10)\n",
            "Requirement already satisfied: urllib3!=1.25.0,!=1.25.1,<1.26,>=1.21.1 in /usr/local/lib/python3.8/dist-packages (from requests<3.0.0,>=2.13.0->spacy<3.5.0,>=3.4.0->en-core-web-sm==3.4.1) (1.24.3)\n",
            "Requirement already satisfied: chardet<4,>=3.0.2 in /usr/local/lib/python3.8/dist-packages (from requests<3.0.0,>=2.13.0->spacy<3.5.0,>=3.4.0->en-core-web-sm==3.4.1) (3.0.4)\n",
            "Requirement already satisfied: blis<0.8.0,>=0.7.8 in /usr/local/lib/python3.8/dist-packages (from thinc<8.2.0,>=8.1.0->spacy<3.5.0,>=3.4.0->en-core-web-sm==3.4.1) (0.7.9)\n",
            "Requirement already satisfied: confection<1.0.0,>=0.0.1 in /usr/local/lib/python3.8/dist-packages (from thinc<8.2.0,>=8.1.0->spacy<3.5.0,>=3.4.0->en-core-web-sm==3.4.1) (0.0.3)\n",
            "Requirement already satisfied: click<9.0.0,>=7.1.1 in /usr/local/lib/python3.8/dist-packages (from typer<0.8.0,>=0.3.0->spacy<3.5.0,>=3.4.0->en-core-web-sm==3.4.1) (7.1.2)\n",
            "Requirement already satisfied: MarkupSafe>=0.23 in /usr/local/lib/python3.8/dist-packages (from jinja2->spacy<3.5.0,>=3.4.0->en-core-web-sm==3.4.1) (2.0.1)\n",
            "\u001b[38;5;2m✔ Download and installation successful\u001b[0m\n",
            "You can now load the package via spacy.load('en_core_web_sm')\n"
          ]
        }
      ],
      "source": [
        "!python -m spacy download en_core_web_sm"
      ]
    },
    {
      "cell_type": "code",
      "execution_count": 33,
      "id": "db3c0dfd",
      "metadata": {
        "colab": {
          "base_uri": "https://localhost:8080/"
        },
        "id": "db3c0dfd",
        "outputId": "6a3a8696-432f-4298-8dd9-ea3d314a7bae"
      },
      "outputs": [
        {
          "output_type": "stream",
          "name": "stdout",
          "text": [
            "Input: Cloudy temperature 2000 is using the fog\n",
            "Output: Cloudy temperature is using the fog\n"
          ]
        }
      ],
      "source": [
        "def discard_non_alpha(text):\n",
        "    word_list_non_alpha = [word for word in regexp.tokenize(text) if word.isalpha()]\n",
        "    text_non_alpha = \" \".join(word_list_non_alpha)\n",
        "    return text_non_alpha\n",
        "\n",
        "text = \"Cloudy temperature 2000 is using the fog\"\n",
        "print(\"Input: {}\".format(text))\n",
        "print(\"Output: {}\".format(discard_non_alpha(text)))"
      ]
    },
    {
      "cell_type": "code",
      "execution_count": 34,
      "id": "d9ffe20a",
      "metadata": {
        "colab": {
          "base_uri": "https://localhost:8080/"
        },
        "id": "d9ffe20a",
        "outputId": "b4a8a866-ec5e-4380-d945-d5ad0c7bb4a3"
      },
      "outputs": [
        {
          "output_type": "stream",
          "name": "stdout",
          "text": [
            "Input: Bhanu is a good boy\n",
            "Tokens: ['Bhanu', 'is', 'a', 'good', 'boy']\n",
            "Tagged Tokens: [('Bhanu', 'NNP'), ('is', 'VBZ'), ('a', 'DT'), ('good', 'JJ'), ('boy', 'NN')]\n",
            "Output: Bhanu is boy\n"
          ]
        },
        {
          "output_type": "stream",
          "name": "stderr",
          "text": [
            "[nltk_data] Downloading package averaged_perceptron_tagger to\n",
            "[nltk_data]     /root/nltk_data...\n",
            "[nltk_data]   Package averaged_perceptron_tagger is already up-to-\n",
            "[nltk_data]       date!\n"
          ]
        }
      ],
      "source": [
        "import nltk\n",
        "nltk.download('averaged_perceptron_tagger')\n",
        "def keep_pos(text):\n",
        "    tokens = regexp.tokenize(text)\n",
        "    tokens_tagged = nltk.pos_tag(tokens)\n",
        "    #keep_tags = ['NN', 'NNS', 'NNP', 'NNPS', 'FW']\n",
        "    keep_tags = ['NN', 'NNS', 'NNP', 'NNPS', 'FW', 'PRP', 'PRPS', 'RB', 'RBR', 'RBS', 'VB', 'VBD', 'VBG', 'VBN', 'VBP', 'VBZ', 'WDT', 'WP', 'WPS', 'WRB']\n",
        "    keep_words = [x[0] for x in tokens_tagged if x[1] in keep_tags]\n",
        "    return \" \".join(keep_words)\n",
        "\n",
        "text = \"Bhanu is a good boy\"\n",
        "print(\"Input: {}\".format(text))\n",
        "tokens = regexp.tokenize(text)\n",
        "print(\"Tokens: {}\".format(tokens))\n",
        "tokens_tagged = nltk.pos_tag(tokens)\n",
        "print(\"Tagged Tokens: {}\".format(tokens_tagged))\n",
        "print(\"Output: {}\".format(keep_pos(text)))"
      ]
    },
    {
      "cell_type": "code",
      "execution_count": 41,
      "id": "2572a6ba",
      "metadata": {
        "colab": {
          "base_uri": "https://localhost:8080/"
        },
        "id": "2572a6ba",
        "outputId": "e9bc57c7-f247-4c1b-9b7d-72b3ee25bbb1"
      },
      "outputs": [
        {
          "output_type": "stream",
          "name": "stderr",
          "text": [
            "[nltk_data] Downloading package averaged_perceptron_tagger to\n",
            "[nltk_data]     /root/nltk_data...\n",
            "[nltk_data]   Package averaged_perceptron_tagger is already up-to-\n",
            "[nltk_data]       date!\n"
          ]
        },
        {
          "output_type": "execute_result",
          "data": {
            "text/plain": [
              "True"
            ]
          },
          "metadata": {},
          "execution_count": 41
        }
      ],
      "source": [
        "import nltk\n",
        "nltk.download('averaged_perceptron_tagger')"
      ]
    },
    {
      "cell_type": "code",
      "execution_count": 42,
      "id": "5dd36f03",
      "metadata": {
        "id": "5dd36f03"
      },
      "outputs": [],
      "source": [
        "\n",
        "alphabets = [\"a\", \"b\", \"c\", \"d\", \"e\", \"f\", \"g\", \"h\", \"i\", \"j\", \"k\", \"l\", \"m\", \"n\", \"o\", \"p\", \"q\", \"r\", \"s\", \"t\", \"u\", \"v\", \"w\", \"x\", \"y\", \"z\"]\n",
        "prepositions = [\"about\", \"above\", \"across\", \"after\", \"against\", \"among\", \"around\", \"at\", \"before\", \"behind\", \"below\", \"beside\", \"between\", \"by\", \"down\", \"during\", \"for\", \"from\", \"in\", \"inside\", \"into\", \"near\", \"of\", \"off\", \"on\", \"out\", \"over\", \"through\", \"to\", \"toward\", \"under\", \"up\", \"with\"]\n",
        "prepositions_less_common = [\"aboard\", \"along\", \"amid\", \"as\", \"beneath\", \"beyond\", \"but\", \"concerning\", \"considering\", \"despite\", \"except\", \"following\", \"like\", \"minus\", \"onto\", \"outside\", \"per\", \"plus\", \"regarding\", \"round\", \"since\", \"than\", \"till\", \"underneath\", \"unlike\", \"until\", \"upon\", \"versus\", \"via\", \"within\", \"without\"]\n",
        "coordinating_conjunctions = [\"and\", \"but\", \"for\", \"nor\", \"or\", \"so\", \"and\", \"yet\"]\n",
        "correlative_conjunctions = [\"both\", \"and\", \"either\", \"or\", \"neither\", \"nor\", \"not\", \"only\", \"but\", \"whether\", \"or\"]\n",
        "subordinating_conjunctions = [\"after\", \"although\", \"as\", \"as if\", \"as long as\", \"as much as\", \"as soon as\", \"as though\", \"because\", \"before\", \"by the time\", \"even if\", \"even though\", \"if\", \"in order that\", \"in case\", \"in the event that\", \"lest\", \"now that\", \"once\", \"only\", \"only if\", \"provided that\", \"since\", \"so\", \"supposing\", \"that\", \"than\", \"though\", \"till\", \"unless\", \"until\", \"when\", \"whenever\", \"where\", \"whereas\", \"wherever\", \"whether or not\", \"while\"]\n",
        "others = [\"ã\", \"å\", \"ì\", \"û\", \"ûªm\", \"ûó\", \"ûò\", \"ìñ\", \"ûªre\", \"ûªve\", \"ûª\", \"ûªs\", \"ûówe\"]\n",
        "additional_stops = alphabets + prepositions + prepositions_less_common + coordinating_conjunctions + correlative_conjunctions + subordinating_conjunctions + others\n",
        "\n",
        "def remove_additional_stopwords(text):\n",
        "    return \" \".join([word for word in regexp.tokenize(text) if word not in additional_stops])"
      ]
    },
    {
      "cell_type": "code",
      "execution_count": 43,
      "id": "3a1b8343",
      "metadata": {
        "colab": {
          "base_uri": "https://localhost:8080/"
        },
        "id": "3a1b8343",
        "outputId": "5c5646e7-672d-441e-f2ac-befa484446de"
      },
      "outputs": [
        {
          "output_type": "stream",
          "name": "stdout",
          "text": [
            "Input: We'll combine all functions into 1 SINGLE FUNCTION 🙂 & apply on @product #descriptions https://en.wikipedia.org/wiki/Text_normalization\n",
            "Output: we combine function function apply product description\n"
          ]
        }
      ],
      "source": [
        "def text_normalizer(text):\n",
        "    text = convert_to_lowercase(text)\n",
        "    text = remove_whitespace(text)\n",
        "    text = re.sub('\\n' , '', text) \n",
        "    text = re.sub('\\[.*?\\]', '', text)\n",
        "    text = remove_http(text)\n",
        "    text = remove_punctuation(text)\n",
        "    text = remove_html(text)\n",
        "    text = remove_emoji(text)\n",
        "    text = convert_acronyms(text)\n",
        "    text = convert_contractions(text)\n",
        "   \n",
        "    text = text_lemmatizer(text) \n",
        "    text = discard_non_alpha(text)\n",
        "    text = keep_pos(text)\n",
        "    text = remove_additional_stopwords(text)\n",
        "    return text\n",
        "\n",
        "text = \"We'll combine all functions into 1 SINGLE FUNCTION 🙂 & apply on @product #descriptions https://en.wikipedia.org/wiki/Text_normalization\"\n",
        "print(\"Input: {}\".format(text))\n",
        "print(\"Output: {}\".format(text_normalizer(text)))"
      ]
    },
    {
      "cell_type": "code",
      "source": [
        "data"
      ],
      "metadata": {
        "colab": {
          "base_uri": "https://localhost:8080/",
          "height": 641
        },
        "id": "BxRD5ftm_2Zh",
        "outputId": "8e9b1cc3-edaa-430d-81bc-74569460f54a"
      },
      "id": "BxRD5ftm_2Zh",
      "execution_count": 44,
      "outputs": [
        {
          "output_type": "execute_result",
          "data": {
            "text/plain": [
              "      rating                                               text  \\\n",
              "0        5.0  I initially had trouble deciding between the p...   \n",
              "1        5.0  Allow me to preface this with a little history...   \n",
              "2        4.0  I am enjoying it so far. Great for reading. Ha...   \n",
              "3        5.0  I bought one of the first Paperwhites and have...   \n",
              "4        5.0  I have to say upfront - I don't like coroporat...   \n",
              "...      ...                                                ...   \n",
              "1592     3.0  This is not the same remote that I got for my ...   \n",
              "1593     1.0  I have had to change the batteries in this rem...   \n",
              "1594     1.0  Remote did not activate, nor did it connect to...   \n",
              "1595     3.0  It does the job but is super over priced. I fe...   \n",
              "1596     1.0  I ordered this item to replace the one that no...   \n",
              "\n",
              "                                                  title  \n",
              "0                        Paperwhite voyage, no regrets!  \n",
              "1                     One Simply Could Not Ask For More  \n",
              "2            Great for those that just want an e-reader  \n",
              "3                              Love / Hate relationship  \n",
              "4                                             I LOVE IT  \n",
              "...                                                 ...  \n",
              "1592  I would be disappointed with myself if i produ...  \n",
              "1593                        Battery draining remote!!!!  \n",
              "1594      replacing an even worse remote. Waste of time  \n",
              "1595                                         Overpriced  \n",
              "1596  I am sending all of this crap back to amazon a...  \n",
              "\n",
              "[1177 rows x 3 columns]"
            ],
            "text/html": [
              "\n",
              "  <div id=\"df-c6fcae17-30ac-4ddd-9dda-f472aca505fb\">\n",
              "    <div class=\"colab-df-container\">\n",
              "      <div>\n",
              "<style scoped>\n",
              "    .dataframe tbody tr th:only-of-type {\n",
              "        vertical-align: middle;\n",
              "    }\n",
              "\n",
              "    .dataframe tbody tr th {\n",
              "        vertical-align: top;\n",
              "    }\n",
              "\n",
              "    .dataframe thead th {\n",
              "        text-align: right;\n",
              "    }\n",
              "</style>\n",
              "<table border=\"1\" class=\"dataframe\">\n",
              "  <thead>\n",
              "    <tr style=\"text-align: right;\">\n",
              "      <th></th>\n",
              "      <th>rating</th>\n",
              "      <th>text</th>\n",
              "      <th>title</th>\n",
              "    </tr>\n",
              "  </thead>\n",
              "  <tbody>\n",
              "    <tr>\n",
              "      <th>0</th>\n",
              "      <td>5.0</td>\n",
              "      <td>I initially had trouble deciding between the p...</td>\n",
              "      <td>Paperwhite voyage, no regrets!</td>\n",
              "    </tr>\n",
              "    <tr>\n",
              "      <th>1</th>\n",
              "      <td>5.0</td>\n",
              "      <td>Allow me to preface this with a little history...</td>\n",
              "      <td>One Simply Could Not Ask For More</td>\n",
              "    </tr>\n",
              "    <tr>\n",
              "      <th>2</th>\n",
              "      <td>4.0</td>\n",
              "      <td>I am enjoying it so far. Great for reading. Ha...</td>\n",
              "      <td>Great for those that just want an e-reader</td>\n",
              "    </tr>\n",
              "    <tr>\n",
              "      <th>3</th>\n",
              "      <td>5.0</td>\n",
              "      <td>I bought one of the first Paperwhites and have...</td>\n",
              "      <td>Love / Hate relationship</td>\n",
              "    </tr>\n",
              "    <tr>\n",
              "      <th>4</th>\n",
              "      <td>5.0</td>\n",
              "      <td>I have to say upfront - I don't like coroporat...</td>\n",
              "      <td>I LOVE IT</td>\n",
              "    </tr>\n",
              "    <tr>\n",
              "      <th>...</th>\n",
              "      <td>...</td>\n",
              "      <td>...</td>\n",
              "      <td>...</td>\n",
              "    </tr>\n",
              "    <tr>\n",
              "      <th>1592</th>\n",
              "      <td>3.0</td>\n",
              "      <td>This is not the same remote that I got for my ...</td>\n",
              "      <td>I would be disappointed with myself if i produ...</td>\n",
              "    </tr>\n",
              "    <tr>\n",
              "      <th>1593</th>\n",
              "      <td>1.0</td>\n",
              "      <td>I have had to change the batteries in this rem...</td>\n",
              "      <td>Battery draining remote!!!!</td>\n",
              "    </tr>\n",
              "    <tr>\n",
              "      <th>1594</th>\n",
              "      <td>1.0</td>\n",
              "      <td>Remote did not activate, nor did it connect to...</td>\n",
              "      <td>replacing an even worse remote. Waste of time</td>\n",
              "    </tr>\n",
              "    <tr>\n",
              "      <th>1595</th>\n",
              "      <td>3.0</td>\n",
              "      <td>It does the job but is super over priced. I fe...</td>\n",
              "      <td>Overpriced</td>\n",
              "    </tr>\n",
              "    <tr>\n",
              "      <th>1596</th>\n",
              "      <td>1.0</td>\n",
              "      <td>I ordered this item to replace the one that no...</td>\n",
              "      <td>I am sending all of this crap back to amazon a...</td>\n",
              "    </tr>\n",
              "  </tbody>\n",
              "</table>\n",
              "<p>1177 rows × 3 columns</p>\n",
              "</div>\n",
              "      <button class=\"colab-df-convert\" onclick=\"convertToInteractive('df-c6fcae17-30ac-4ddd-9dda-f472aca505fb')\"\n",
              "              title=\"Convert this dataframe to an interactive table.\"\n",
              "              style=\"display:none;\">\n",
              "        \n",
              "  <svg xmlns=\"http://www.w3.org/2000/svg\" height=\"24px\"viewBox=\"0 0 24 24\"\n",
              "       width=\"24px\">\n",
              "    <path d=\"M0 0h24v24H0V0z\" fill=\"none\"/>\n",
              "    <path d=\"M18.56 5.44l.94 2.06.94-2.06 2.06-.94-2.06-.94-.94-2.06-.94 2.06-2.06.94zm-11 1L8.5 8.5l.94-2.06 2.06-.94-2.06-.94L8.5 2.5l-.94 2.06-2.06.94zm10 10l.94 2.06.94-2.06 2.06-.94-2.06-.94-.94-2.06-.94 2.06-2.06.94z\"/><path d=\"M17.41 7.96l-1.37-1.37c-.4-.4-.92-.59-1.43-.59-.52 0-1.04.2-1.43.59L10.3 9.45l-7.72 7.72c-.78.78-.78 2.05 0 2.83L4 21.41c.39.39.9.59 1.41.59.51 0 1.02-.2 1.41-.59l7.78-7.78 2.81-2.81c.8-.78.8-2.07 0-2.86zM5.41 20L4 18.59l7.72-7.72 1.47 1.35L5.41 20z\"/>\n",
              "  </svg>\n",
              "      </button>\n",
              "      \n",
              "  <style>\n",
              "    .colab-df-container {\n",
              "      display:flex;\n",
              "      flex-wrap:wrap;\n",
              "      gap: 12px;\n",
              "    }\n",
              "\n",
              "    .colab-df-convert {\n",
              "      background-color: #E8F0FE;\n",
              "      border: none;\n",
              "      border-radius: 50%;\n",
              "      cursor: pointer;\n",
              "      display: none;\n",
              "      fill: #1967D2;\n",
              "      height: 32px;\n",
              "      padding: 0 0 0 0;\n",
              "      width: 32px;\n",
              "    }\n",
              "\n",
              "    .colab-df-convert:hover {\n",
              "      background-color: #E2EBFA;\n",
              "      box-shadow: 0px 1px 2px rgba(60, 64, 67, 0.3), 0px 1px 3px 1px rgba(60, 64, 67, 0.15);\n",
              "      fill: #174EA6;\n",
              "    }\n",
              "\n",
              "    [theme=dark] .colab-df-convert {\n",
              "      background-color: #3B4455;\n",
              "      fill: #D2E3FC;\n",
              "    }\n",
              "\n",
              "    [theme=dark] .colab-df-convert:hover {\n",
              "      background-color: #434B5C;\n",
              "      box-shadow: 0px 1px 3px 1px rgba(0, 0, 0, 0.15);\n",
              "      filter: drop-shadow(0px 1px 2px rgba(0, 0, 0, 0.3));\n",
              "      fill: #FFFFFF;\n",
              "    }\n",
              "  </style>\n",
              "\n",
              "      <script>\n",
              "        const buttonEl =\n",
              "          document.querySelector('#df-c6fcae17-30ac-4ddd-9dda-f472aca505fb button.colab-df-convert');\n",
              "        buttonEl.style.display =\n",
              "          google.colab.kernel.accessAllowed ? 'block' : 'none';\n",
              "\n",
              "        async function convertToInteractive(key) {\n",
              "          const element = document.querySelector('#df-c6fcae17-30ac-4ddd-9dda-f472aca505fb');\n",
              "          const dataTable =\n",
              "            await google.colab.kernel.invokeFunction('convertToInteractive',\n",
              "                                                     [key], {});\n",
              "          if (!dataTable) return;\n",
              "\n",
              "          const docLinkHtml = 'Like what you see? Visit the ' +\n",
              "            '<a target=\"_blank\" href=https://colab.research.google.com/notebooks/data_table.ipynb>data table notebook</a>'\n",
              "            + ' to learn more about interactive tables.';\n",
              "          element.innerHTML = '';\n",
              "          dataTable['output_type'] = 'display_data';\n",
              "          await google.colab.output.renderOutput(dataTable, element);\n",
              "          const docLink = document.createElement('div');\n",
              "          docLink.innerHTML = docLinkHtml;\n",
              "          element.appendChild(docLink);\n",
              "        }\n",
              "      </script>\n",
              "    </div>\n",
              "  </div>\n",
              "  "
            ]
          },
          "metadata": {},
          "execution_count": 44
        }
      ]
    },
    {
      "cell_type": "code",
      "execution_count": 45,
      "id": "70e15873",
      "metadata": {
        "id": "70e15873"
      },
      "outputs": [],
      "source": [
        "# data = data.replace([\"1\",\"2\",\"3\",\"4\",\"5\",\"6\",\"7\",\"8\",\"9\",\"0\",\"~\",\";\",\":\",\"=\",\"\\+\",\"<\", \">\", \"\\?\", \"!\", \"\\\\\\\\\", \"@\", \"#\", \"$\", \"\\*\", \"%\", \",\", \"\\.\", \"\\(\", \"\\)\", \"\\[\", \"\\]\", \"\\{\", \"\\}\", \"\\\"\", \"/br\"], \"\", regex = True)\n",
        "# data = data.replace([\"' \", \" '\",\"/\",\"-\"], \" \", regex = True)\n",
        "X = data.drop('rating', errors='raise', axis=1)\n",
        "y=data['rating']"
      ]
    },
    {
      "cell_type": "code",
      "source": [
        "X"
      ],
      "metadata": {
        "colab": {
          "base_uri": "https://localhost:8080/",
          "height": 554
        },
        "id": "g8Aue5na_vg0",
        "outputId": "4e51a7ed-b2ab-4f48-f8ee-51bdd2e35588"
      },
      "id": "g8Aue5na_vg0",
      "execution_count": 46,
      "outputs": [
        {
          "output_type": "execute_result",
          "data": {
            "text/plain": [
              "                                                   text  \\\n",
              "0     I initially had trouble deciding between the p...   \n",
              "1     Allow me to preface this with a little history...   \n",
              "2     I am enjoying it so far. Great for reading. Ha...   \n",
              "3     I bought one of the first Paperwhites and have...   \n",
              "4     I have to say upfront - I don't like coroporat...   \n",
              "...                                                 ...   \n",
              "1592  This is not the same remote that I got for my ...   \n",
              "1593  I have had to change the batteries in this rem...   \n",
              "1594  Remote did not activate, nor did it connect to...   \n",
              "1595  It does the job but is super over priced. I fe...   \n",
              "1596  I ordered this item to replace the one that no...   \n",
              "\n",
              "                                                  title  \n",
              "0                        Paperwhite voyage, no regrets!  \n",
              "1                     One Simply Could Not Ask For More  \n",
              "2            Great for those that just want an e-reader  \n",
              "3                              Love / Hate relationship  \n",
              "4                                             I LOVE IT  \n",
              "...                                                 ...  \n",
              "1592  I would be disappointed with myself if i produ...  \n",
              "1593                        Battery draining remote!!!!  \n",
              "1594      replacing an even worse remote. Waste of time  \n",
              "1595                                         Overpriced  \n",
              "1596  I am sending all of this crap back to amazon a...  \n",
              "\n",
              "[1177 rows x 2 columns]"
            ],
            "text/html": [
              "\n",
              "  <div id=\"df-effcc5e1-7ad4-4123-80af-1a4c26d24580\">\n",
              "    <div class=\"colab-df-container\">\n",
              "      <div>\n",
              "<style scoped>\n",
              "    .dataframe tbody tr th:only-of-type {\n",
              "        vertical-align: middle;\n",
              "    }\n",
              "\n",
              "    .dataframe tbody tr th {\n",
              "        vertical-align: top;\n",
              "    }\n",
              "\n",
              "    .dataframe thead th {\n",
              "        text-align: right;\n",
              "    }\n",
              "</style>\n",
              "<table border=\"1\" class=\"dataframe\">\n",
              "  <thead>\n",
              "    <tr style=\"text-align: right;\">\n",
              "      <th></th>\n",
              "      <th>text</th>\n",
              "      <th>title</th>\n",
              "    </tr>\n",
              "  </thead>\n",
              "  <tbody>\n",
              "    <tr>\n",
              "      <th>0</th>\n",
              "      <td>I initially had trouble deciding between the p...</td>\n",
              "      <td>Paperwhite voyage, no regrets!</td>\n",
              "    </tr>\n",
              "    <tr>\n",
              "      <th>1</th>\n",
              "      <td>Allow me to preface this with a little history...</td>\n",
              "      <td>One Simply Could Not Ask For More</td>\n",
              "    </tr>\n",
              "    <tr>\n",
              "      <th>2</th>\n",
              "      <td>I am enjoying it so far. Great for reading. Ha...</td>\n",
              "      <td>Great for those that just want an e-reader</td>\n",
              "    </tr>\n",
              "    <tr>\n",
              "      <th>3</th>\n",
              "      <td>I bought one of the first Paperwhites and have...</td>\n",
              "      <td>Love / Hate relationship</td>\n",
              "    </tr>\n",
              "    <tr>\n",
              "      <th>4</th>\n",
              "      <td>I have to say upfront - I don't like coroporat...</td>\n",
              "      <td>I LOVE IT</td>\n",
              "    </tr>\n",
              "    <tr>\n",
              "      <th>...</th>\n",
              "      <td>...</td>\n",
              "      <td>...</td>\n",
              "    </tr>\n",
              "    <tr>\n",
              "      <th>1592</th>\n",
              "      <td>This is not the same remote that I got for my ...</td>\n",
              "      <td>I would be disappointed with myself if i produ...</td>\n",
              "    </tr>\n",
              "    <tr>\n",
              "      <th>1593</th>\n",
              "      <td>I have had to change the batteries in this rem...</td>\n",
              "      <td>Battery draining remote!!!!</td>\n",
              "    </tr>\n",
              "    <tr>\n",
              "      <th>1594</th>\n",
              "      <td>Remote did not activate, nor did it connect to...</td>\n",
              "      <td>replacing an even worse remote. Waste of time</td>\n",
              "    </tr>\n",
              "    <tr>\n",
              "      <th>1595</th>\n",
              "      <td>It does the job but is super over priced. I fe...</td>\n",
              "      <td>Overpriced</td>\n",
              "    </tr>\n",
              "    <tr>\n",
              "      <th>1596</th>\n",
              "      <td>I ordered this item to replace the one that no...</td>\n",
              "      <td>I am sending all of this crap back to amazon a...</td>\n",
              "    </tr>\n",
              "  </tbody>\n",
              "</table>\n",
              "<p>1177 rows × 2 columns</p>\n",
              "</div>\n",
              "      <button class=\"colab-df-convert\" onclick=\"convertToInteractive('df-effcc5e1-7ad4-4123-80af-1a4c26d24580')\"\n",
              "              title=\"Convert this dataframe to an interactive table.\"\n",
              "              style=\"display:none;\">\n",
              "        \n",
              "  <svg xmlns=\"http://www.w3.org/2000/svg\" height=\"24px\"viewBox=\"0 0 24 24\"\n",
              "       width=\"24px\">\n",
              "    <path d=\"M0 0h24v24H0V0z\" fill=\"none\"/>\n",
              "    <path d=\"M18.56 5.44l.94 2.06.94-2.06 2.06-.94-2.06-.94-.94-2.06-.94 2.06-2.06.94zm-11 1L8.5 8.5l.94-2.06 2.06-.94-2.06-.94L8.5 2.5l-.94 2.06-2.06.94zm10 10l.94 2.06.94-2.06 2.06-.94-2.06-.94-.94-2.06-.94 2.06-2.06.94z\"/><path d=\"M17.41 7.96l-1.37-1.37c-.4-.4-.92-.59-1.43-.59-.52 0-1.04.2-1.43.59L10.3 9.45l-7.72 7.72c-.78.78-.78 2.05 0 2.83L4 21.41c.39.39.9.59 1.41.59.51 0 1.02-.2 1.41-.59l7.78-7.78 2.81-2.81c.8-.78.8-2.07 0-2.86zM5.41 20L4 18.59l7.72-7.72 1.47 1.35L5.41 20z\"/>\n",
              "  </svg>\n",
              "      </button>\n",
              "      \n",
              "  <style>\n",
              "    .colab-df-container {\n",
              "      display:flex;\n",
              "      flex-wrap:wrap;\n",
              "      gap: 12px;\n",
              "    }\n",
              "\n",
              "    .colab-df-convert {\n",
              "      background-color: #E8F0FE;\n",
              "      border: none;\n",
              "      border-radius: 50%;\n",
              "      cursor: pointer;\n",
              "      display: none;\n",
              "      fill: #1967D2;\n",
              "      height: 32px;\n",
              "      padding: 0 0 0 0;\n",
              "      width: 32px;\n",
              "    }\n",
              "\n",
              "    .colab-df-convert:hover {\n",
              "      background-color: #E2EBFA;\n",
              "      box-shadow: 0px 1px 2px rgba(60, 64, 67, 0.3), 0px 1px 3px 1px rgba(60, 64, 67, 0.15);\n",
              "      fill: #174EA6;\n",
              "    }\n",
              "\n",
              "    [theme=dark] .colab-df-convert {\n",
              "      background-color: #3B4455;\n",
              "      fill: #D2E3FC;\n",
              "    }\n",
              "\n",
              "    [theme=dark] .colab-df-convert:hover {\n",
              "      background-color: #434B5C;\n",
              "      box-shadow: 0px 1px 3px 1px rgba(0, 0, 0, 0.15);\n",
              "      filter: drop-shadow(0px 1px 2px rgba(0, 0, 0, 0.3));\n",
              "      fill: #FFFFFF;\n",
              "    }\n",
              "  </style>\n",
              "\n",
              "      <script>\n",
              "        const buttonEl =\n",
              "          document.querySelector('#df-effcc5e1-7ad4-4123-80af-1a4c26d24580 button.colab-df-convert');\n",
              "        buttonEl.style.display =\n",
              "          google.colab.kernel.accessAllowed ? 'block' : 'none';\n",
              "\n",
              "        async function convertToInteractive(key) {\n",
              "          const element = document.querySelector('#df-effcc5e1-7ad4-4123-80af-1a4c26d24580');\n",
              "          const dataTable =\n",
              "            await google.colab.kernel.invokeFunction('convertToInteractive',\n",
              "                                                     [key], {});\n",
              "          if (!dataTable) return;\n",
              "\n",
              "          const docLinkHtml = 'Like what you see? Visit the ' +\n",
              "            '<a target=\"_blank\" href=https://colab.research.google.com/notebooks/data_table.ipynb>data table notebook</a>'\n",
              "            + ' to learn more about interactive tables.';\n",
              "          element.innerHTML = '';\n",
              "          dataTable['output_type'] = 'display_data';\n",
              "          await google.colab.output.renderOutput(dataTable, element);\n",
              "          const docLink = document.createElement('div');\n",
              "          docLink.innerHTML = docLinkHtml;\n",
              "          element.appendChild(docLink);\n",
              "        }\n",
              "      </script>\n",
              "    </div>\n",
              "  </div>\n",
              "  "
            ]
          },
          "metadata": {},
          "execution_count": 46
        }
      ]
    },
    {
      "cell_type": "code",
      "execution_count": 47,
      "id": "b92323b5",
      "metadata": {
        "id": "b92323b5"
      },
      "outputs": [],
      "source": [
        "from sklearn.feature_extraction.text import TfidfVectorizer\n",
        "\n",
        "training_size = 0.82\n",
        "np.random.seed(5)\n",
        "\n",
        "data = data.replace([\"1\",\"2\",\"3\",\"4\",\"5\",\"6\",\"7\",\"8\",\"9\",\"0\",\"~\",\";\",\":\",\"=\",\"\\+\",\"<\", \">\", \"\\?\", \"!\", \"\\\\\\\\\", \"@\", \"#\", \"$\", \"\\*\", \"%\", \",\", \"\\.\", \"\\(\", \"\\)\", \"\\[\", \"\\]\", \"\\{\", \"\\}\", \"\\\"\", \"/br\"], \"\", regex = True)\n",
        "data = data.replace([\"' \", \" '\",\"/\",\"-\"], \" \", regex = True)\n",
        "\n",
        "X = data.drop('rating', errors='raise', axis=1)\n",
        "y = data['rating']\n",
        "\n",
        "full_line =[]   \n",
        "for row in range(len(X.title)): \n",
        "    full_line.append(' '.join(str(value).lower() for value in X.iloc[row,0:2])) \n",
        "\n",
        "tfidf = TfidfVectorizer()\n",
        "data1 = tfidf.fit_transform(full_line)\n",
        "X_train, X_test, y_train, y_test = train_test_split(data1, y, train_size=training_size, random_state=0)"
      ]
    },
    {
      "cell_type": "code",
      "execution_count": 48,
      "id": "3af8839c",
      "metadata": {
        "colab": {
          "base_uri": "https://localhost:8080/"
        },
        "id": "3af8839c",
        "outputId": "3bfd4b34-8d44-4a35-bbbb-7de2c5e69dcb"
      },
      "outputs": [
        {
          "output_type": "stream",
          "name": "stdout",
          "text": [
            "Accuracy using  [5, 10, 15] \n",
            "\t [66.50943396226415, 61.32075471698113, 64.15094339622641]\n",
            "Maximum Accuracy using Knn :- 66.50943396226415\n",
            "              precision    recall  f1-score   support\n",
            "\n",
            "         1.0       0.00      0.00      0.00         5\n",
            "         2.0       0.33      0.17      0.22         6\n",
            "         3.0       0.73      0.52      0.60        31\n",
            "         4.0       0.47      0.38      0.42        50\n",
            "         5.0       0.72      0.88      0.79       120\n",
            "\n",
            "    accuracy                           0.67       212\n",
            "   macro avg       0.45      0.39      0.41       212\n",
            "weighted avg       0.63      0.67      0.64       212\n",
            "\n"
          ]
        },
        {
          "output_type": "execute_result",
          "data": {
            "text/plain": [
              "66.50943396226415"
            ]
          },
          "metadata": {},
          "execution_count": 48
        }
      ],
      "source": [
        "#knn\n",
        "from sklearn.metrics import confusion_matrix\n",
        "from sklearn.metrics import accuracy_score\n",
        "from sklearn.metrics import confusion_matrix\n",
        "import matplotlib.pyplot as plt\n",
        "from sklearn.metrics import plot_confusion_matrix\n",
        "from sklearn.naive_bayes import MultinomialNB\n",
        "from sklearn.metrics import classification_report\n",
        "from sklearn.metrics import f1_score\n",
        "\n",
        "def knn(n_neighbors,metrics=0):\n",
        "  temp=[]\n",
        "  knn_model = KNeighborsClassifier(n_neighbors=n_neighbors)\n",
        "  knn_model.fit(X_train, y_train)\n",
        "  y_pred = knn_model.predict(X_test)\n",
        "  knearest_accuracy = accuracy_score(y_test, y_pred)*100\n",
        "    \n",
        "  if(metrics==1):\n",
        "    print(classification_report(y_test, y_pred))\n",
        "  return knearest_accuracy\n",
        "\n",
        "n_neighbors = [5, 10,15]\n",
        "knn_accuracy = []\n",
        "for i in n_neighbors:\n",
        "  knn_accuracy.append(knn(i))\n",
        "print(\"Accuracy using \",n_neighbors,\"\\n\\t\",knn_accuracy)\n",
        "\n",
        "knn_maxaccuracy=max(knn_accuracy)\n",
        "print(\"Maximum Accuracy using Knn :-\",knn_maxaccuracy)\n",
        "knn(n_neighbors[knn_accuracy.index(knn_maxaccuracy)],1)\n",
        "\n"
      ]
    },
    {
      "cell_type": "code",
      "execution_count": 49,
      "id": "8dc4d4aa",
      "metadata": {
        "colab": {
          "base_uri": "https://localhost:8080/",
          "height": 881
        },
        "id": "8dc4d4aa",
        "outputId": "c768a18f-aa50-4b24-d71b-21f6f7c21be2"
      },
      "outputs": [
        {
          "output_type": "stream",
          "name": "stdout",
          "text": [
            "Accuracy using Naive Bayes Model :- [70.28301886792453, 67.45283018867924, 66.0377358490566, 63.67924528301887, 63.20754716981132, 57.07547169811321]\n",
            "\n",
            "              precision    recall  f1-score   support\n",
            "\n",
            "         1.0       0.00      0.00      0.00         5\n",
            "         2.0       0.00      0.00      0.00         6\n",
            "         3.0       1.00      0.55      0.71        31\n",
            "         4.0       0.71      0.30      0.42        50\n",
            "         5.0       0.68      0.97      0.80       120\n",
            "\n",
            "    accuracy                           0.70       212\n",
            "   macro avg       0.48      0.36      0.39       212\n",
            "weighted avg       0.70      0.70      0.66       212\n",
            "\n"
          ]
        },
        {
          "output_type": "stream",
          "name": "stderr",
          "text": [
            "/usr/local/lib/python3.8/dist-packages/sklearn/metrics/_classification.py:1318: UndefinedMetricWarning: Precision and F-score are ill-defined and being set to 0.0 in labels with no predicted samples. Use `zero_division` parameter to control this behavior.\n",
            "  _warn_prf(average, modifier, msg_start, len(result))\n",
            "/usr/local/lib/python3.8/dist-packages/sklearn/metrics/_classification.py:1318: UndefinedMetricWarning: Precision and F-score are ill-defined and being set to 0.0 in labels with no predicted samples. Use `zero_division` parameter to control this behavior.\n",
            "  _warn_prf(average, modifier, msg_start, len(result))\n",
            "/usr/local/lib/python3.8/dist-packages/sklearn/metrics/_classification.py:1318: UndefinedMetricWarning: Precision and F-score are ill-defined and being set to 0.0 in labels with no predicted samples. Use `zero_division` parameter to control this behavior.\n",
            "  _warn_prf(average, modifier, msg_start, len(result))\n"
          ]
        },
        {
          "output_type": "execute_result",
          "data": {
            "text/plain": [
              "70.28301886792453"
            ]
          },
          "metadata": {},
          "execution_count": 49
        },
        {
          "output_type": "display_data",
          "data": {
            "text/plain": [
              "<Figure size 720x576 with 2 Axes>"
            ],
            "image/png": "[encoded data removed]"
          },
          "metadata": {
            "needs_background": "light"
          }
        }
      ],
      "source": [
        "from sklearn.metrics import confusion_matrix\n",
        "import matplotlib.pyplot as plt\n",
        "from sklearn.metrics import plot_confusion_matrix\n",
        "from sklearn.naive_bayes import MultinomialNB\n",
        "from sklearn.metrics import classification_report\n",
        "from sklearn.metrics import confusion_matrix,ConfusionMatrixDisplay ,f1_score,accuracy_score,precision_score,recall_score\n",
        "\n",
        "def naive_bayes(alpha,metrics=0):\n",
        "  model_nb = MultinomialNB(alpha=alpha)\n",
        "  model_nb.fit(X_train, y_train)\n",
        "  y_pred = model_nb.predict(X_test)\n",
        "  nb_accuracy = accuracy_score(y_test, y_pred)*100\n",
        "\n",
        "  if(metrics==1):\n",
        "    cm = confusion_matrix(y_test, y_pred)\n",
        "    cm_display = ConfusionMatrixDisplay(cm)\n",
        "    fig, ax = plt.subplots(figsize=(10,8))\n",
        "    cm_display.plot(ax=ax)  \n",
        "    \n",
        "\n",
        "    print(classification_report(y_test, y_pred))\n",
        "\n",
        "  return nb_accuracy\n",
        "\n",
        "alpha=[0.1,0.2,0.3,0.5,1,1.5]\n",
        "NB_accuracy = []\n",
        "for i in alpha:\n",
        "  NB_accuracy.append(naive_bayes(i))\n",
        "print(\"Accuracy using Naive Bayes Model :-\",NB_accuracy,end=\"\\n\\n\")\n",
        "NB_maxaccuracy=max(NB_accuracy)\n",
        "naive_bayes(alpha[NB_accuracy.index(NB_maxaccuracy)],1)\n"
      ]
    },
    {
      "cell_type": "code",
      "execution_count": 50,
      "id": "73290137",
      "metadata": {
        "colab": {
          "base_uri": "https://localhost:8080/",
          "height": 662
        },
        "id": "73290137",
        "outputId": "9c7cf1fd-587f-4b7e-8b70-20cbfbdfc88c"
      },
      "outputs": [
        {
          "output_type": "stream",
          "name": "stdout",
          "text": [
            "Accuracy using Random Forest Model with Estimator_Values  [1, 2, 3, 4, 5] \n",
            "\t [61.79245283018868, 57.07547169811321, 63.67924528301887, 66.50943396226415, 72.16981132075472]\n",
            "\n",
            "Max accuracy using Random Forest :- 72.16981132075472\n"
          ]
        },
        {
          "output_type": "stream",
          "name": "stderr",
          "text": [
            "/usr/local/lib/python3.8/dist-packages/sklearn/utils/deprecation.py:87: FutureWarning: Function plot_confusion_matrix is deprecated; Function `plot_confusion_matrix` is deprecated in 1.0 and will be removed in 1.2. Use one of the class methods: ConfusionMatrixDisplay.from_predictions or ConfusionMatrixDisplay.from_estimator.\n",
            "  warnings.warn(msg, category=FutureWarning)\n"
          ]
        },
        {
          "output_type": "display_data",
          "data": {
            "text/plain": [
              "<Figure size 432x288 with 2 Axes>"
            ],
            "image/png": "[encoded data removed]"
          },
          "metadata": {
            "needs_background": "dark"
          }
        },
        {
          "output_type": "stream",
          "name": "stdout",
          "text": [
            "\n",
            "              precision    recall  f1-score   support\n",
            "\n",
            "         1.0       0.00      0.00      0.00         5\n",
            "         2.0       1.00      0.50      0.67         6\n",
            "         3.0       1.00      0.65      0.78        31\n",
            "         4.0       0.42      0.34      0.38        50\n",
            "         5.0       0.69      0.85      0.76       120\n",
            "\n",
            "    accuracy                           0.67       212\n",
            "   macro avg       0.62      0.47      0.52       212\n",
            "weighted avg       0.67      0.67      0.66       212\n",
            "\n"
          ]
        },
        {
          "output_type": "execute_result",
          "data": {
            "text/plain": [
              "66.98113207547169"
            ]
          },
          "metadata": {},
          "execution_count": 50
        }
      ],
      "source": [
        "from sklearn.ensemble import RandomForestClassifier\n",
        "Estimator_Value=[1,2,3,4,5]\n",
        "RF_accuracy=[]\n",
        "def randomforest(estimator,metrics=0):\n",
        "  model_randomforest = RandomForestClassifier(n_estimators=estimator)\n",
        "  model_randomforest.fit(X_train, y_train)\n",
        "  y_pred = model_randomforest.predict(X_test)\n",
        "  randomforest_accuracy = accuracy_score(y_test, y_pred)*100\n",
        "\n",
        "  if(metrics==1):\n",
        "    cm = confusion_matrix(y_test,y_pred)\n",
        "    color = 'white'\n",
        "    matrix = plot_confusion_matrix(model_randomforest, X_test, y_test)#, cmap=plt.cm.Blues)\n",
        "    matrix.ax_.set_title('Confusion Matrix', color=color)\n",
        "    plt.xlabel('Predicted Label', color=color)\n",
        "    plt.ylabel('True Label', color=color)\n",
        "    plt.gcf().axes[0].tick_params(colors=color)\n",
        "    plt.gcf().axes[1].tick_params(colors=color)\n",
        "    plt.show()\n",
        "    print()\n",
        "\n",
        "    print(classification_report(y_test, y_pred))\n",
        "  \n",
        "  return randomforest_accuracy\n",
        "\n",
        "for i in Estimator_Value:\n",
        "  RF_accuracy.append(randomforest(i))\n",
        "print(\"Accuracy using Random Forest Model with Estimator_Values \",Estimator_Value,\"\\n\\t\",RF_accuracy)\n",
        "RF_maxaccuracy=max(RF_accuracy)\n",
        "print(\"\\nMax accuracy using Random Forest :-\",RF_maxaccuracy)\n",
        "randomforest(Estimator_Value[RF_accuracy.index(RF_maxaccuracy)],1)"
      ]
    },
    {
      "cell_type": "code",
      "source": [
        "from sklearn import svm\n",
        "svm_accuracy=[]\n",
        "def svmmodel(degree,metrics=0):\n",
        "  model_svm = svm.SVC(C=degree)\n",
        "  model_svm.fit(X_train, y_train)\n",
        "  y_pred = model_svm.predict(X_test)\n",
        "  svm_accuracy = accuracy_score(y_test, y_pred)*100\n",
        "\n",
        "  if(metrics==1):\n",
        "    cm = confusion_matrix(y_test,y_pred)\n",
        "    color = 'white'\n",
        "    matrix = plot_confusion_matrix(model_svm, X_test, y_test)#, cmap=plt.cm.Blues)\n",
        "    matrix.ax_.set_title('Confusion Matrix', color=color)\n",
        "    plt.xlabel('Predicted Label', color=color)\n",
        "    plt.ylabel('True Label', color=color)\n",
        "    plt.gcf().axes[0].tick_params(colors=color)\n",
        "    plt.gcf().axes[1].tick_params(colors=color)\n",
        "    plt.show()\n",
        "    print()\n",
        "\n",
        "    print(classification_report(y_test, y_pred))\n",
        "  return svm_accuracy\n",
        "\n",
        "degree = [1,2, 10]\n",
        "accuracy7 = []\n",
        "for i in degree:\n",
        "  svm_accuracy.append(svmmodel(i))\n",
        "print(\"Accuracy using SVM \",svm_accuracy)\n",
        "svm_maxaccuracy=max(svm_accuracy)\n",
        "print(\"Max Accuracy using SVM :-\",svm_maxaccuracy)\n",
        "svmmodel(degree[svm_accuracy.index(svm_maxaccuracy)],1)"
      ],
      "metadata": {
        "colab": {
          "base_uri": "https://localhost:8080/",
          "height": 731
        },
        "id": "xbVL3bMDPjMl",
        "outputId": "af4a3c59-0925-4a05-c424-bc04d933a43e"
      },
      "id": "xbVL3bMDPjMl",
      "execution_count": 51,
      "outputs": [
        {
          "output_type": "stream",
          "name": "stdout",
          "text": [
            "Accuracy using SVM  [69.81132075471697, 73.11320754716981, 73.58490566037736]\n",
            "Max Accuracy using SVM :- 73.58490566037736\n"
          ]
        },
        {
          "output_type": "stream",
          "name": "stderr",
          "text": [
            "/usr/local/lib/python3.8/dist-packages/sklearn/utils/deprecation.py:87: FutureWarning: Function plot_confusion_matrix is deprecated; Function `plot_confusion_matrix` is deprecated in 1.0 and will be removed in 1.2. Use one of the class methods: ConfusionMatrixDisplay.from_predictions or ConfusionMatrixDisplay.from_estimator.\n",
            "  warnings.warn(msg, category=FutureWarning)\n"
          ]
        },
        {
          "output_type": "display_data",
          "data": {
            "text/plain": [
              "<Figure size 432x288 with 2 Axes>"
            ],
            "image/png": "[encoded data removed]"
          },
          "metadata": {
            "needs_background": "dark"
          }
        },
        {
          "output_type": "stream",
          "name": "stdout",
          "text": [
            "\n",
            "              precision    recall  f1-score   support\n",
            "\n",
            "         1.0       0.00      0.00      0.00         5\n",
            "         2.0       1.00      0.33      0.50         6\n",
            "         3.0       1.00      0.61      0.76        31\n",
            "         4.0       0.89      0.34      0.49        50\n",
            "         5.0       0.69      0.98      0.81       120\n",
            "\n",
            "    accuracy                           0.74       212\n",
            "   macro avg       0.72      0.45      0.51       212\n",
            "weighted avg       0.77      0.74      0.70       212\n",
            "\n"
          ]
        },
        {
          "output_type": "stream",
          "name": "stderr",
          "text": [
            "/usr/local/lib/python3.8/dist-packages/sklearn/metrics/_classification.py:1318: UndefinedMetricWarning: Precision and F-score are ill-defined and being set to 0.0 in labels with no predicted samples. Use `zero_division` parameter to control this behavior.\n",
            "  _warn_prf(average, modifier, msg_start, len(result))\n",
            "/usr/local/lib/python3.8/dist-packages/sklearn/metrics/_classification.py:1318: UndefinedMetricWarning: Precision and F-score are ill-defined and being set to 0.0 in labels with no predicted samples. Use `zero_division` parameter to control this behavior.\n",
            "  _warn_prf(average, modifier, msg_start, len(result))\n",
            "/usr/local/lib/python3.8/dist-packages/sklearn/metrics/_classification.py:1318: UndefinedMetricWarning: Precision and F-score are ill-defined and being set to 0.0 in labels with no predicted samples. Use `zero_division` parameter to control this behavior.\n",
            "  _warn_prf(average, modifier, msg_start, len(result))\n"
          ]
        },
        {
          "output_type": "execute_result",
          "data": {
            "text/plain": [
              "73.58490566037736"
            ]
          },
          "metadata": {},
          "execution_count": 51
        }
      ]
    },
    {
      "cell_type": "code",
      "execution_count": 52,
      "id": "b9be8fd0",
      "metadata": {
        "colab": {
          "base_uri": "https://localhost:8080/",
          "height": 634
        },
        "id": "b9be8fd0",
        "outputId": "7703fd1c-f6db-47ef-b9c4-42ac6241cc78"
      },
      "outputs": [
        {
          "output_type": "stream",
          "name": "stderr",
          "text": [
            "<ipython-input-52-94579848281d>:6: MatplotlibDeprecationWarning: Using a string of single character colors as a color sequence is deprecated. Use an explicit list instead.\n",
            "  plt.bar(all_model_names, all_model_accuracies, width=0.8, color = 'grcmykb')\n"
          ]
        },
        {
          "output_type": "display_data",
          "data": {
            "text/plain": [
              "<Figure size 432x288 with 1 Axes>"
            ],
            "image/png": "[encoded data removed]"
          },
          "metadata": {
            "needs_background": "light"
          }
        },
        {
          "output_type": "stream",
          "name": "stdout",
          "text": [
            "\n",
            "\n"
          ]
        },
        {
          "output_type": "display_data",
          "data": {
            "text/plain": [
              "<Figure size 432x288 with 1 Axes>"
            ],
            "image/png": "[encoded data removed]"
          },
          "metadata": {
            "needs_background": "light"
          }
        }
      ],
      "source": [
        "all_model_accuracies = [knn_maxaccuracy,NB_maxaccuracy,RF_maxaccuracy,svm_maxaccuracy]\n",
        "all_model_names = [ 'KNN','Naive','Random','svm']\n",
        "# all_model_trainingtime = [(trainingtime1/60), (trainingtime2/60), (trainingtime3/60), (trainingtime4/60), (trainingtime5/60), (trainingtime6/60), (trainingtime7/60)]\n",
        "plt.title(\"Comparison of different models and their accuracies\")\n",
        "plt.ylabel(\"Accuracy in percentage\")\n",
        "plt.bar(all_model_names, all_model_accuracies, width=0.8, color = 'grcmykb')\n",
        "plt.show()\n",
        "print(\"\\n\")\n",
        "plt.ylabel(\"Accuracy in percentage\")\n",
        "plt.title(\"Accuracy plot\")\n",
        "plt.plot(all_model_names, all_model_accuracies, color='red')\n",
        "plt.show()"
      ]
    },
    {
      "cell_type": "code",
      "source": [],
      "metadata": {
        "id": "gCuGarG1PU9v"
      },
      "id": "gCuGarG1PU9v",
      "execution_count": 52,
      "outputs": []
    }
  ],
  "metadata": {
    "kernelspec": {
      "display_name": "Python 3 (ipykernel)",
      "language": "python",
      "name": "python3"
    },
    "language_info": {
      "codemirror_mode": {
        "name": "ipython",
        "version": 3
      },
      "file_extension": ".py",
      "mimetype": "text/x-python",
      "name": "python",
      "nbconvert_exporter": "python",
      "pygments_lexer": "ipython3",
      "version": "3.9.12"
    },
    "colab": {
      "provenance": []
    }
  },
  "nbformat": 4,
  "nbformat_minor": 5
}